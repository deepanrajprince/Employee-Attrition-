{
  "nbformat": 4,
  "nbformat_minor": 0,
  "metadata": {
    "colab": {
      "name": "train_model_and_predict_model.ipynb",
      "provenance": [],
      "collapsed_sections": [
        "nWk4CK-cfXOk",
        "CnQokRDSfXOp",
        "Ddf0OCgZfXOr",
        "5J3t-iMbfXO1",
        "9_DKFyPLfXO2",
        "7F0MCncDfXO4",
        "4Q4MTCHefXO5",
        "NSVXcfD0fXO7",
        "ZIcmEIbUfXO_",
        "UUMpwvAGfXPA",
        "nSjYGg80fXPD",
        "kuvhVPXnfXPF",
        "PC3jyJP5fXPH",
        "-asp4HdRfXPI",
        "8yX21VAbfXPK",
        "AFZA0VzQfXPL",
        "SZSCX5n0fXPM",
        "6vg7hc67fXPO",
        "WZnlloFLfXPQ",
        "FhwCsRB2fXPS",
        "5x9ai3o8fXPT",
        "7Ufx46PifXPU",
        "jKlYy-5SfXPW",
        "Z9MnHxQufXPY",
        "XiF3pMlifXPa",
        "UGZ-D9dPfXPc",
        "JFIPs6QafXPk",
        "S4G1g2uVfXPl"
      ],
      "toc_visible": true
    },
    "kernelspec": {
      "display_name": "Python 3",
      "language": "python",
      "name": "python3"
    },
    "language_info": {
      "codemirror_mode": {
        "name": "ipython",
        "version": 3
      },
      "file_extension": ".py",
      "mimetype": "text/x-python",
      "name": "python",
      "nbconvert_exporter": "python",
      "pygments_lexer": "ipython3",
      "version": "3.8.5"
    }
  },
  "cells": [
    {
      "cell_type": "code",
      "metadata": {
        "colab": {
          "base_uri": "https://localhost:8080/",
          "height": 17
        },
        "id": "snYczL8ljU9C",
        "outputId": "632e4e05-16ef-4b5c-9db4-fd75328e3fd2"
      },
      "source": [
        "# Below code is for getting figure in center alignment\n",
        "from IPython.core.display import HTML\n",
        "HTML(\"\"\"\n",
        "<style>\n",
        ".output_png {\n",
        "    display: table-cell;\n",
        "    text-align: center;\n",
        "    vertical-align: middle;\n",
        "}\n",
        "\n",
        "</style>\n",
        "\"\"\")"
      ],
      "execution_count": null,
      "outputs": [
        {
          "output_type": "execute_result",
          "data": {
            "text/html": [
              "\n",
              "<style>\n",
              ".output_png {\n",
              "    display: table-cell;\n",
              "    text-align: center;\n",
              "    vertical-align: middle;\n",
              "}\n",
              "\n",
              "</style>\n"
            ],
            "text/plain": [
              "<IPython.core.display.HTML object>"
            ]
          },
          "metadata": {
            "tags": []
          },
          "execution_count": 1
        }
      ]
    },
    {
      "cell_type": "code",
      "metadata": {
        "id": "ntuqunlTfXN_"
      },
      "source": [
        "# Basic Imports\n",
        "import numpy as np\n",
        "import pandas as pd\n",
        "import matplotlib.pyplot as plt\n",
        "import seaborn as sns\n",
        "from scipy import stats\n",
        "# To avoid warnings\n",
        "import warnings\n",
        "warnings.filterwarnings('ignore')"
      ],
      "execution_count": null,
      "outputs": []
    },
    {
      "cell_type": "markdown",
      "metadata": {
        "id": "k0vakBS5fXOS"
      },
      "source": [
        "# Reading excel file"
      ]
    },
    {
      "cell_type": "code",
      "metadata": {
        "colab": {
          "base_uri": "https://localhost:8080/",
          "height": 640
        },
        "id": "4q-Ez6ZdfXOV",
        "outputId": "8a0da3c8-0287-4959-8ea6-9f9e185fe852"
      },
      "source": [
        "# Reading the given file and basic checks\n",
        "df = pd.read_excel(\"INX_Future_Inc_Employee_Performance_CDS_Project2_Data_V1.8.xls\",index_col=0)\n",
        "df"
      ],
      "execution_count": null,
      "outputs": [
        {
          "output_type": "execute_result",
          "data": {
            "text/html": [
              "<div>\n",
              "<style scoped>\n",
              "    .dataframe tbody tr th:only-of-type {\n",
              "        vertical-align: middle;\n",
              "    }\n",
              "\n",
              "    .dataframe tbody tr th {\n",
              "        vertical-align: top;\n",
              "    }\n",
              "\n",
              "    .dataframe thead th {\n",
              "        text-align: right;\n",
              "    }\n",
              "</style>\n",
              "<table border=\"1\" class=\"dataframe\">\n",
              "  <thead>\n",
              "    <tr style=\"text-align: right;\">\n",
              "      <th></th>\n",
              "      <th>Age</th>\n",
              "      <th>Gender</th>\n",
              "      <th>EducationBackground</th>\n",
              "      <th>MaritalStatus</th>\n",
              "      <th>EmpDepartment</th>\n",
              "      <th>EmpJobRole</th>\n",
              "      <th>BusinessTravelFrequency</th>\n",
              "      <th>DistanceFromHome</th>\n",
              "      <th>EmpEducationLevel</th>\n",
              "      <th>EmpEnvironmentSatisfaction</th>\n",
              "      <th>EmpHourlyRate</th>\n",
              "      <th>EmpJobInvolvement</th>\n",
              "      <th>EmpJobLevel</th>\n",
              "      <th>EmpJobSatisfaction</th>\n",
              "      <th>NumCompaniesWorked</th>\n",
              "      <th>OverTime</th>\n",
              "      <th>EmpLastSalaryHikePercent</th>\n",
              "      <th>EmpRelationshipSatisfaction</th>\n",
              "      <th>TotalWorkExperienceInYears</th>\n",
              "      <th>TrainingTimesLastYear</th>\n",
              "      <th>EmpWorkLifeBalance</th>\n",
              "      <th>ExperienceYearsAtThisCompany</th>\n",
              "      <th>ExperienceYearsInCurrentRole</th>\n",
              "      <th>YearsSinceLastPromotion</th>\n",
              "      <th>YearsWithCurrManager</th>\n",
              "      <th>Attrition</th>\n",
              "      <th>PerformanceRating</th>\n",
              "    </tr>\n",
              "    <tr>\n",
              "      <th>EmpNumber</th>\n",
              "      <th></th>\n",
              "      <th></th>\n",
              "      <th></th>\n",
              "      <th></th>\n",
              "      <th></th>\n",
              "      <th></th>\n",
              "      <th></th>\n",
              "      <th></th>\n",
              "      <th></th>\n",
              "      <th></th>\n",
              "      <th></th>\n",
              "      <th></th>\n",
              "      <th></th>\n",
              "      <th></th>\n",
              "      <th></th>\n",
              "      <th></th>\n",
              "      <th></th>\n",
              "      <th></th>\n",
              "      <th></th>\n",
              "      <th></th>\n",
              "      <th></th>\n",
              "      <th></th>\n",
              "      <th></th>\n",
              "      <th></th>\n",
              "      <th></th>\n",
              "      <th></th>\n",
              "      <th></th>\n",
              "    </tr>\n",
              "  </thead>\n",
              "  <tbody>\n",
              "    <tr>\n",
              "      <th>E1001000</th>\n",
              "      <td>32</td>\n",
              "      <td>Male</td>\n",
              "      <td>Marketing</td>\n",
              "      <td>Single</td>\n",
              "      <td>Sales</td>\n",
              "      <td>Sales Executive</td>\n",
              "      <td>Travel_Rarely</td>\n",
              "      <td>10</td>\n",
              "      <td>3</td>\n",
              "      <td>4</td>\n",
              "      <td>55</td>\n",
              "      <td>3</td>\n",
              "      <td>2</td>\n",
              "      <td>4</td>\n",
              "      <td>1</td>\n",
              "      <td>No</td>\n",
              "      <td>12</td>\n",
              "      <td>4</td>\n",
              "      <td>10</td>\n",
              "      <td>2</td>\n",
              "      <td>2</td>\n",
              "      <td>10</td>\n",
              "      <td>7</td>\n",
              "      <td>0</td>\n",
              "      <td>8</td>\n",
              "      <td>No</td>\n",
              "      <td>3</td>\n",
              "    </tr>\n",
              "    <tr>\n",
              "      <th>E1001006</th>\n",
              "      <td>47</td>\n",
              "      <td>Male</td>\n",
              "      <td>Marketing</td>\n",
              "      <td>Single</td>\n",
              "      <td>Sales</td>\n",
              "      <td>Sales Executive</td>\n",
              "      <td>Travel_Rarely</td>\n",
              "      <td>14</td>\n",
              "      <td>4</td>\n",
              "      <td>4</td>\n",
              "      <td>42</td>\n",
              "      <td>3</td>\n",
              "      <td>2</td>\n",
              "      <td>1</td>\n",
              "      <td>2</td>\n",
              "      <td>No</td>\n",
              "      <td>12</td>\n",
              "      <td>4</td>\n",
              "      <td>20</td>\n",
              "      <td>2</td>\n",
              "      <td>3</td>\n",
              "      <td>7</td>\n",
              "      <td>7</td>\n",
              "      <td>1</td>\n",
              "      <td>7</td>\n",
              "      <td>No</td>\n",
              "      <td>3</td>\n",
              "    </tr>\n",
              "    <tr>\n",
              "      <th>E1001007</th>\n",
              "      <td>40</td>\n",
              "      <td>Male</td>\n",
              "      <td>Life Sciences</td>\n",
              "      <td>Married</td>\n",
              "      <td>Sales</td>\n",
              "      <td>Sales Executive</td>\n",
              "      <td>Travel_Frequently</td>\n",
              "      <td>5</td>\n",
              "      <td>4</td>\n",
              "      <td>4</td>\n",
              "      <td>48</td>\n",
              "      <td>2</td>\n",
              "      <td>3</td>\n",
              "      <td>1</td>\n",
              "      <td>5</td>\n",
              "      <td>Yes</td>\n",
              "      <td>21</td>\n",
              "      <td>3</td>\n",
              "      <td>20</td>\n",
              "      <td>2</td>\n",
              "      <td>3</td>\n",
              "      <td>18</td>\n",
              "      <td>13</td>\n",
              "      <td>1</td>\n",
              "      <td>12</td>\n",
              "      <td>No</td>\n",
              "      <td>4</td>\n",
              "    </tr>\n",
              "    <tr>\n",
              "      <th>E1001009</th>\n",
              "      <td>41</td>\n",
              "      <td>Male</td>\n",
              "      <td>Human Resources</td>\n",
              "      <td>Divorced</td>\n",
              "      <td>Human Resources</td>\n",
              "      <td>Manager</td>\n",
              "      <td>Travel_Rarely</td>\n",
              "      <td>10</td>\n",
              "      <td>4</td>\n",
              "      <td>2</td>\n",
              "      <td>73</td>\n",
              "      <td>2</td>\n",
              "      <td>5</td>\n",
              "      <td>4</td>\n",
              "      <td>3</td>\n",
              "      <td>No</td>\n",
              "      <td>15</td>\n",
              "      <td>2</td>\n",
              "      <td>23</td>\n",
              "      <td>2</td>\n",
              "      <td>2</td>\n",
              "      <td>21</td>\n",
              "      <td>6</td>\n",
              "      <td>12</td>\n",
              "      <td>6</td>\n",
              "      <td>No</td>\n",
              "      <td>3</td>\n",
              "    </tr>\n",
              "    <tr>\n",
              "      <th>E1001010</th>\n",
              "      <td>60</td>\n",
              "      <td>Male</td>\n",
              "      <td>Marketing</td>\n",
              "      <td>Single</td>\n",
              "      <td>Sales</td>\n",
              "      <td>Sales Executive</td>\n",
              "      <td>Travel_Rarely</td>\n",
              "      <td>16</td>\n",
              "      <td>4</td>\n",
              "      <td>1</td>\n",
              "      <td>84</td>\n",
              "      <td>3</td>\n",
              "      <td>2</td>\n",
              "      <td>1</td>\n",
              "      <td>8</td>\n",
              "      <td>No</td>\n",
              "      <td>14</td>\n",
              "      <td>4</td>\n",
              "      <td>10</td>\n",
              "      <td>1</td>\n",
              "      <td>3</td>\n",
              "      <td>2</td>\n",
              "      <td>2</td>\n",
              "      <td>2</td>\n",
              "      <td>2</td>\n",
              "      <td>No</td>\n",
              "      <td>3</td>\n",
              "    </tr>\n",
              "    <tr>\n",
              "      <th>...</th>\n",
              "      <td>...</td>\n",
              "      <td>...</td>\n",
              "      <td>...</td>\n",
              "      <td>...</td>\n",
              "      <td>...</td>\n",
              "      <td>...</td>\n",
              "      <td>...</td>\n",
              "      <td>...</td>\n",
              "      <td>...</td>\n",
              "      <td>...</td>\n",
              "      <td>...</td>\n",
              "      <td>...</td>\n",
              "      <td>...</td>\n",
              "      <td>...</td>\n",
              "      <td>...</td>\n",
              "      <td>...</td>\n",
              "      <td>...</td>\n",
              "      <td>...</td>\n",
              "      <td>...</td>\n",
              "      <td>...</td>\n",
              "      <td>...</td>\n",
              "      <td>...</td>\n",
              "      <td>...</td>\n",
              "      <td>...</td>\n",
              "      <td>...</td>\n",
              "      <td>...</td>\n",
              "      <td>...</td>\n",
              "    </tr>\n",
              "    <tr>\n",
              "      <th>E100992</th>\n",
              "      <td>27</td>\n",
              "      <td>Female</td>\n",
              "      <td>Medical</td>\n",
              "      <td>Divorced</td>\n",
              "      <td>Sales</td>\n",
              "      <td>Sales Executive</td>\n",
              "      <td>Travel_Frequently</td>\n",
              "      <td>3</td>\n",
              "      <td>1</td>\n",
              "      <td>4</td>\n",
              "      <td>71</td>\n",
              "      <td>4</td>\n",
              "      <td>2</td>\n",
              "      <td>4</td>\n",
              "      <td>1</td>\n",
              "      <td>Yes</td>\n",
              "      <td>20</td>\n",
              "      <td>2</td>\n",
              "      <td>6</td>\n",
              "      <td>3</td>\n",
              "      <td>3</td>\n",
              "      <td>6</td>\n",
              "      <td>5</td>\n",
              "      <td>0</td>\n",
              "      <td>4</td>\n",
              "      <td>No</td>\n",
              "      <td>4</td>\n",
              "    </tr>\n",
              "    <tr>\n",
              "      <th>E100993</th>\n",
              "      <td>37</td>\n",
              "      <td>Male</td>\n",
              "      <td>Life Sciences</td>\n",
              "      <td>Single</td>\n",
              "      <td>Development</td>\n",
              "      <td>Senior Developer</td>\n",
              "      <td>Travel_Rarely</td>\n",
              "      <td>10</td>\n",
              "      <td>2</td>\n",
              "      <td>4</td>\n",
              "      <td>80</td>\n",
              "      <td>4</td>\n",
              "      <td>1</td>\n",
              "      <td>4</td>\n",
              "      <td>3</td>\n",
              "      <td>No</td>\n",
              "      <td>17</td>\n",
              "      <td>1</td>\n",
              "      <td>4</td>\n",
              "      <td>2</td>\n",
              "      <td>3</td>\n",
              "      <td>1</td>\n",
              "      <td>0</td>\n",
              "      <td>0</td>\n",
              "      <td>0</td>\n",
              "      <td>No</td>\n",
              "      <td>3</td>\n",
              "    </tr>\n",
              "    <tr>\n",
              "      <th>E100994</th>\n",
              "      <td>50</td>\n",
              "      <td>Male</td>\n",
              "      <td>Medical</td>\n",
              "      <td>Married</td>\n",
              "      <td>Development</td>\n",
              "      <td>Senior Developer</td>\n",
              "      <td>Travel_Rarely</td>\n",
              "      <td>28</td>\n",
              "      <td>1</td>\n",
              "      <td>4</td>\n",
              "      <td>74</td>\n",
              "      <td>4</td>\n",
              "      <td>1</td>\n",
              "      <td>3</td>\n",
              "      <td>1</td>\n",
              "      <td>Yes</td>\n",
              "      <td>11</td>\n",
              "      <td>3</td>\n",
              "      <td>20</td>\n",
              "      <td>3</td>\n",
              "      <td>3</td>\n",
              "      <td>20</td>\n",
              "      <td>8</td>\n",
              "      <td>3</td>\n",
              "      <td>8</td>\n",
              "      <td>No</td>\n",
              "      <td>3</td>\n",
              "    </tr>\n",
              "    <tr>\n",
              "      <th>E100995</th>\n",
              "      <td>34</td>\n",
              "      <td>Female</td>\n",
              "      <td>Medical</td>\n",
              "      <td>Single</td>\n",
              "      <td>Data Science</td>\n",
              "      <td>Data Scientist</td>\n",
              "      <td>Travel_Rarely</td>\n",
              "      <td>9</td>\n",
              "      <td>3</td>\n",
              "      <td>4</td>\n",
              "      <td>46</td>\n",
              "      <td>2</td>\n",
              "      <td>3</td>\n",
              "      <td>2</td>\n",
              "      <td>1</td>\n",
              "      <td>No</td>\n",
              "      <td>14</td>\n",
              "      <td>2</td>\n",
              "      <td>9</td>\n",
              "      <td>3</td>\n",
              "      <td>4</td>\n",
              "      <td>8</td>\n",
              "      <td>7</td>\n",
              "      <td>7</td>\n",
              "      <td>7</td>\n",
              "      <td>No</td>\n",
              "      <td>3</td>\n",
              "    </tr>\n",
              "    <tr>\n",
              "      <th>E100998</th>\n",
              "      <td>24</td>\n",
              "      <td>Female</td>\n",
              "      <td>Life Sciences</td>\n",
              "      <td>Single</td>\n",
              "      <td>Sales</td>\n",
              "      <td>Sales Executive</td>\n",
              "      <td>Travel_Rarely</td>\n",
              "      <td>3</td>\n",
              "      <td>2</td>\n",
              "      <td>1</td>\n",
              "      <td>65</td>\n",
              "      <td>3</td>\n",
              "      <td>2</td>\n",
              "      <td>3</td>\n",
              "      <td>9</td>\n",
              "      <td>No</td>\n",
              "      <td>14</td>\n",
              "      <td>1</td>\n",
              "      <td>4</td>\n",
              "      <td>3</td>\n",
              "      <td>3</td>\n",
              "      <td>2</td>\n",
              "      <td>2</td>\n",
              "      <td>2</td>\n",
              "      <td>0</td>\n",
              "      <td>Yes</td>\n",
              "      <td>2</td>\n",
              "    </tr>\n",
              "  </tbody>\n",
              "</table>\n",
              "<p>1200 rows × 27 columns</p>\n",
              "</div>"
            ],
            "text/plain": [
              "           Age  Gender  ... Attrition PerformanceRating\n",
              "EmpNumber               ...                            \n",
              "E1001000    32    Male  ...        No                 3\n",
              "E1001006    47    Male  ...        No                 3\n",
              "E1001007    40    Male  ...        No                 4\n",
              "E1001009    41    Male  ...        No                 3\n",
              "E1001010    60    Male  ...        No                 3\n",
              "...        ...     ...  ...       ...               ...\n",
              "E100992     27  Female  ...        No                 4\n",
              "E100993     37    Male  ...        No                 3\n",
              "E100994     50    Male  ...        No                 3\n",
              "E100995     34  Female  ...        No                 3\n",
              "E100998     24  Female  ...       Yes                 2\n",
              "\n",
              "[1200 rows x 27 columns]"
            ]
          },
          "metadata": {
            "tags": []
          },
          "execution_count": 3
        }
      ]
    },
    {
      "cell_type": "markdown",
      "metadata": {
        "id": "AU61K6IPfXOY"
      },
      "source": [
        "# Statistical Info about data"
      ]
    },
    {
      "cell_type": "code",
      "metadata": {
        "colab": {
          "base_uri": "https://localhost:8080/",
          "height": 314
        },
        "id": "IoYGkvpdfXOZ",
        "outputId": "651fccfa-acf0-4bcc-dcd0-5dd9632cded5"
      },
      "source": [
        "# Describing statistical information\n",
        "df.describe()"
      ],
      "execution_count": null,
      "outputs": [
        {
          "output_type": "execute_result",
          "data": {
            "text/html": [
              "<div>\n",
              "<style scoped>\n",
              "    .dataframe tbody tr th:only-of-type {\n",
              "        vertical-align: middle;\n",
              "    }\n",
              "\n",
              "    .dataframe tbody tr th {\n",
              "        vertical-align: top;\n",
              "    }\n",
              "\n",
              "    .dataframe thead th {\n",
              "        text-align: right;\n",
              "    }\n",
              "</style>\n",
              "<table border=\"1\" class=\"dataframe\">\n",
              "  <thead>\n",
              "    <tr style=\"text-align: right;\">\n",
              "      <th></th>\n",
              "      <th>Age</th>\n",
              "      <th>DistanceFromHome</th>\n",
              "      <th>EmpEducationLevel</th>\n",
              "      <th>EmpEnvironmentSatisfaction</th>\n",
              "      <th>EmpHourlyRate</th>\n",
              "      <th>EmpJobInvolvement</th>\n",
              "      <th>EmpJobLevel</th>\n",
              "      <th>EmpJobSatisfaction</th>\n",
              "      <th>NumCompaniesWorked</th>\n",
              "      <th>EmpLastSalaryHikePercent</th>\n",
              "      <th>EmpRelationshipSatisfaction</th>\n",
              "      <th>TotalWorkExperienceInYears</th>\n",
              "      <th>TrainingTimesLastYear</th>\n",
              "      <th>EmpWorkLifeBalance</th>\n",
              "      <th>ExperienceYearsAtThisCompany</th>\n",
              "      <th>ExperienceYearsInCurrentRole</th>\n",
              "      <th>YearsSinceLastPromotion</th>\n",
              "      <th>YearsWithCurrManager</th>\n",
              "      <th>PerformanceRating</th>\n",
              "    </tr>\n",
              "  </thead>\n",
              "  <tbody>\n",
              "    <tr>\n",
              "      <th>count</th>\n",
              "      <td>1200.000000</td>\n",
              "      <td>1200.000000</td>\n",
              "      <td>1200.00000</td>\n",
              "      <td>1200.000000</td>\n",
              "      <td>1200.000000</td>\n",
              "      <td>1200.000000</td>\n",
              "      <td>1200.000000</td>\n",
              "      <td>1200.000000</td>\n",
              "      <td>1200.000000</td>\n",
              "      <td>1200.000000</td>\n",
              "      <td>1200.000000</td>\n",
              "      <td>1200.000000</td>\n",
              "      <td>1200.000000</td>\n",
              "      <td>1200.000000</td>\n",
              "      <td>1200.000000</td>\n",
              "      <td>1200.000000</td>\n",
              "      <td>1200.000000</td>\n",
              "      <td>1200.000000</td>\n",
              "      <td>1200.000000</td>\n",
              "    </tr>\n",
              "    <tr>\n",
              "      <th>mean</th>\n",
              "      <td>36.918333</td>\n",
              "      <td>9.165833</td>\n",
              "      <td>2.89250</td>\n",
              "      <td>2.715833</td>\n",
              "      <td>65.981667</td>\n",
              "      <td>2.731667</td>\n",
              "      <td>2.067500</td>\n",
              "      <td>2.732500</td>\n",
              "      <td>2.665000</td>\n",
              "      <td>15.222500</td>\n",
              "      <td>2.725000</td>\n",
              "      <td>11.330000</td>\n",
              "      <td>2.785833</td>\n",
              "      <td>2.744167</td>\n",
              "      <td>7.077500</td>\n",
              "      <td>4.291667</td>\n",
              "      <td>2.194167</td>\n",
              "      <td>4.105000</td>\n",
              "      <td>2.948333</td>\n",
              "    </tr>\n",
              "    <tr>\n",
              "      <th>std</th>\n",
              "      <td>9.087289</td>\n",
              "      <td>8.176636</td>\n",
              "      <td>1.04412</td>\n",
              "      <td>1.090599</td>\n",
              "      <td>20.211302</td>\n",
              "      <td>0.707164</td>\n",
              "      <td>1.107836</td>\n",
              "      <td>1.100888</td>\n",
              "      <td>2.469384</td>\n",
              "      <td>3.625918</td>\n",
              "      <td>1.075642</td>\n",
              "      <td>7.797228</td>\n",
              "      <td>1.263446</td>\n",
              "      <td>0.699374</td>\n",
              "      <td>6.236899</td>\n",
              "      <td>3.613744</td>\n",
              "      <td>3.221560</td>\n",
              "      <td>3.541576</td>\n",
              "      <td>0.518866</td>\n",
              "    </tr>\n",
              "    <tr>\n",
              "      <th>min</th>\n",
              "      <td>18.000000</td>\n",
              "      <td>1.000000</td>\n",
              "      <td>1.00000</td>\n",
              "      <td>1.000000</td>\n",
              "      <td>30.000000</td>\n",
              "      <td>1.000000</td>\n",
              "      <td>1.000000</td>\n",
              "      <td>1.000000</td>\n",
              "      <td>0.000000</td>\n",
              "      <td>11.000000</td>\n",
              "      <td>1.000000</td>\n",
              "      <td>0.000000</td>\n",
              "      <td>0.000000</td>\n",
              "      <td>1.000000</td>\n",
              "      <td>0.000000</td>\n",
              "      <td>0.000000</td>\n",
              "      <td>0.000000</td>\n",
              "      <td>0.000000</td>\n",
              "      <td>2.000000</td>\n",
              "    </tr>\n",
              "    <tr>\n",
              "      <th>25%</th>\n",
              "      <td>30.000000</td>\n",
              "      <td>2.000000</td>\n",
              "      <td>2.00000</td>\n",
              "      <td>2.000000</td>\n",
              "      <td>48.000000</td>\n",
              "      <td>2.000000</td>\n",
              "      <td>1.000000</td>\n",
              "      <td>2.000000</td>\n",
              "      <td>1.000000</td>\n",
              "      <td>12.000000</td>\n",
              "      <td>2.000000</td>\n",
              "      <td>6.000000</td>\n",
              "      <td>2.000000</td>\n",
              "      <td>2.000000</td>\n",
              "      <td>3.000000</td>\n",
              "      <td>2.000000</td>\n",
              "      <td>0.000000</td>\n",
              "      <td>2.000000</td>\n",
              "      <td>3.000000</td>\n",
              "    </tr>\n",
              "    <tr>\n",
              "      <th>50%</th>\n",
              "      <td>36.000000</td>\n",
              "      <td>7.000000</td>\n",
              "      <td>3.00000</td>\n",
              "      <td>3.000000</td>\n",
              "      <td>66.000000</td>\n",
              "      <td>3.000000</td>\n",
              "      <td>2.000000</td>\n",
              "      <td>3.000000</td>\n",
              "      <td>2.000000</td>\n",
              "      <td>14.000000</td>\n",
              "      <td>3.000000</td>\n",
              "      <td>10.000000</td>\n",
              "      <td>3.000000</td>\n",
              "      <td>3.000000</td>\n",
              "      <td>5.000000</td>\n",
              "      <td>3.000000</td>\n",
              "      <td>1.000000</td>\n",
              "      <td>3.000000</td>\n",
              "      <td>3.000000</td>\n",
              "    </tr>\n",
              "    <tr>\n",
              "      <th>75%</th>\n",
              "      <td>43.000000</td>\n",
              "      <td>14.000000</td>\n",
              "      <td>4.00000</td>\n",
              "      <td>4.000000</td>\n",
              "      <td>83.000000</td>\n",
              "      <td>3.000000</td>\n",
              "      <td>3.000000</td>\n",
              "      <td>4.000000</td>\n",
              "      <td>4.000000</td>\n",
              "      <td>18.000000</td>\n",
              "      <td>4.000000</td>\n",
              "      <td>15.000000</td>\n",
              "      <td>3.000000</td>\n",
              "      <td>3.000000</td>\n",
              "      <td>10.000000</td>\n",
              "      <td>7.000000</td>\n",
              "      <td>3.000000</td>\n",
              "      <td>7.000000</td>\n",
              "      <td>3.000000</td>\n",
              "    </tr>\n",
              "    <tr>\n",
              "      <th>max</th>\n",
              "      <td>60.000000</td>\n",
              "      <td>29.000000</td>\n",
              "      <td>5.00000</td>\n",
              "      <td>4.000000</td>\n",
              "      <td>100.000000</td>\n",
              "      <td>4.000000</td>\n",
              "      <td>5.000000</td>\n",
              "      <td>4.000000</td>\n",
              "      <td>9.000000</td>\n",
              "      <td>25.000000</td>\n",
              "      <td>4.000000</td>\n",
              "      <td>40.000000</td>\n",
              "      <td>6.000000</td>\n",
              "      <td>4.000000</td>\n",
              "      <td>40.000000</td>\n",
              "      <td>18.000000</td>\n",
              "      <td>15.000000</td>\n",
              "      <td>17.000000</td>\n",
              "      <td>4.000000</td>\n",
              "    </tr>\n",
              "  </tbody>\n",
              "</table>\n",
              "</div>"
            ],
            "text/plain": [
              "               Age  DistanceFromHome  ...  YearsWithCurrManager  PerformanceRating\n",
              "count  1200.000000       1200.000000  ...           1200.000000        1200.000000\n",
              "mean     36.918333          9.165833  ...              4.105000           2.948333\n",
              "std       9.087289          8.176636  ...              3.541576           0.518866\n",
              "min      18.000000          1.000000  ...              0.000000           2.000000\n",
              "25%      30.000000          2.000000  ...              2.000000           3.000000\n",
              "50%      36.000000          7.000000  ...              3.000000           3.000000\n",
              "75%      43.000000         14.000000  ...              7.000000           3.000000\n",
              "max      60.000000         29.000000  ...             17.000000           4.000000\n",
              "\n",
              "[8 rows x 19 columns]"
            ]
          },
          "metadata": {
            "tags": []
          },
          "execution_count": 4
        }
      ]
    },
    {
      "cell_type": "code",
      "metadata": {
        "colab": {
          "base_uri": "https://localhost:8080/"
        },
        "id": "XHQU1CoHfXOa",
        "outputId": "73458fd8-34f9-4cff-e86b-3eb4878f80d9"
      },
      "source": [
        "# getting information about the data\n",
        "df.info()"
      ],
      "execution_count": null,
      "outputs": [
        {
          "output_type": "stream",
          "text": [
            "<class 'pandas.core.frame.DataFrame'>\n",
            "Index: 1200 entries, E1001000 to E100998\n",
            "Data columns (total 27 columns):\n",
            " #   Column                        Non-Null Count  Dtype \n",
            "---  ------                        --------------  ----- \n",
            " 0   Age                           1200 non-null   int64 \n",
            " 1   Gender                        1200 non-null   object\n",
            " 2   EducationBackground           1200 non-null   object\n",
            " 3   MaritalStatus                 1200 non-null   object\n",
            " 4   EmpDepartment                 1200 non-null   object\n",
            " 5   EmpJobRole                    1200 non-null   object\n",
            " 6   BusinessTravelFrequency       1200 non-null   object\n",
            " 7   DistanceFromHome              1200 non-null   int64 \n",
            " 8   EmpEducationLevel             1200 non-null   int64 \n",
            " 9   EmpEnvironmentSatisfaction    1200 non-null   int64 \n",
            " 10  EmpHourlyRate                 1200 non-null   int64 \n",
            " 11  EmpJobInvolvement             1200 non-null   int64 \n",
            " 12  EmpJobLevel                   1200 non-null   int64 \n",
            " 13  EmpJobSatisfaction            1200 non-null   int64 \n",
            " 14  NumCompaniesWorked            1200 non-null   int64 \n",
            " 15  OverTime                      1200 non-null   object\n",
            " 16  EmpLastSalaryHikePercent      1200 non-null   int64 \n",
            " 17  EmpRelationshipSatisfaction   1200 non-null   int64 \n",
            " 18  TotalWorkExperienceInYears    1200 non-null   int64 \n",
            " 19  TrainingTimesLastYear         1200 non-null   int64 \n",
            " 20  EmpWorkLifeBalance            1200 non-null   int64 \n",
            " 21  ExperienceYearsAtThisCompany  1200 non-null   int64 \n",
            " 22  ExperienceYearsInCurrentRole  1200 non-null   int64 \n",
            " 23  YearsSinceLastPromotion       1200 non-null   int64 \n",
            " 24  YearsWithCurrManager          1200 non-null   int64 \n",
            " 25  Attrition                     1200 non-null   object\n",
            " 26  PerformanceRating             1200 non-null   int64 \n",
            "dtypes: int64(19), object(8)\n",
            "memory usage: 262.5+ KB\n"
          ],
          "name": "stdout"
        }
      ]
    },
    {
      "cell_type": "code",
      "metadata": {
        "colab": {
          "base_uri": "https://localhost:8080/"
        },
        "id": "Zy9wFxthEEla",
        "outputId": "7e458d86-edc2-4964-e589-f02d122f3bb8"
      },
      "source": [
        "# value counts checkin info for department \n",
        "\n",
        "print(\"Gender :\",df.Gender.value_counts(),sep = '\\n')\n",
        "print(\"-\"*40)\n",
        "print(\"EmpDepartment :\",df.EmpDepartment.value_counts(),sep = '\\n')\n",
        "print(\"-\"*40)\n",
        "print(\"PerformanceRating:\",df.PerformanceRating.value_counts(),sep = '\\n')\n",
        "print(\"-\"*40)"
      ],
      "execution_count": null,
      "outputs": [
        {
          "output_type": "stream",
          "text": [
            "Gender :\n",
            "Male      725\n",
            "Female    475\n",
            "Name: Gender, dtype: int64\n",
            "----------------------------------------\n",
            "EmpDepartment :\n",
            "Sales                     373\n",
            "Development               361\n",
            "Research & Development    343\n",
            "Human Resources            54\n",
            "Finance                    49\n",
            "Data Science               20\n",
            "Name: EmpDepartment, dtype: int64\n",
            "----------------------------------------\n",
            "PerformanceRating:\n",
            "3    874\n",
            "2    194\n",
            "4    132\n",
            "Name: PerformanceRating, dtype: int64\n",
            "----------------------------------------\n"
          ],
          "name": "stdout"
        }
      ]
    },
    {
      "cell_type": "markdown",
      "metadata": {
        "id": "gVxpU5qwfXOb"
      },
      "source": [
        "### checking for columns features "
      ]
    },
    {
      "cell_type": "code",
      "metadata": {
        "colab": {
          "base_uri": "https://localhost:8080/"
        },
        "id": "t0q39HRyfXOc",
        "outputId": "918fe728-7ff9-41c5-ad7e-dde0b1407a77"
      },
      "source": [
        "df.columns"
      ],
      "execution_count": null,
      "outputs": [
        {
          "output_type": "execute_result",
          "data": {
            "text/plain": [
              "Index(['Age', 'Gender', 'EducationBackground', 'MaritalStatus',\n",
              "       'EmpDepartment', 'EmpJobRole', 'BusinessTravelFrequency',\n",
              "       'DistanceFromHome', 'EmpEducationLevel', 'EmpEnvironmentSatisfaction',\n",
              "       'EmpHourlyRate', 'EmpJobInvolvement', 'EmpJobLevel',\n",
              "       'EmpJobSatisfaction', 'NumCompaniesWorked', 'OverTime',\n",
              "       'EmpLastSalaryHikePercent', 'EmpRelationshipSatisfaction',\n",
              "       'TotalWorkExperienceInYears', 'TrainingTimesLastYear',\n",
              "       'EmpWorkLifeBalance', 'ExperienceYearsAtThisCompany',\n",
              "       'ExperienceYearsInCurrentRole', 'YearsSinceLastPromotion',\n",
              "       'YearsWithCurrManager', 'Attrition', 'PerformanceRating'],\n",
              "      dtype='object')"
            ]
          },
          "metadata": {
            "tags": []
          },
          "execution_count": 7
        }
      ]
    },
    {
      "cell_type": "markdown",
      "metadata": {
        "id": "87Z6Q_MPfXOd"
      },
      "source": [
        "## ordinal features"
      ]
    },
    {
      "cell_type": "code",
      "metadata": {
        "colab": {
          "base_uri": "https://localhost:8080/",
          "height": 446
        },
        "id": "KmBKUBSufXOe",
        "outputId": "b3982c45-3b4a-4929-97ae-a1db8eabffa5"
      },
      "source": [
        "ord_data = df[['EmpEducationLevel', 'EmpEnvironmentSatisfaction', 'EmpJobInvolvement',\n",
        "       'EmpJobLevel', 'EmpJobSatisfaction', 'EmpRelationshipSatisfaction',\n",
        "       'EmpWorkLifeBalance']] = df[['EmpEducationLevel', 'EmpEnvironmentSatisfaction', 'EmpJobInvolvement',\n",
        "       'EmpJobLevel', 'EmpJobSatisfaction', 'EmpRelationshipSatisfaction',\n",
        "       'EmpWorkLifeBalance']]\n",
        "ord_data"
      ],
      "execution_count": null,
      "outputs": [
        {
          "output_type": "execute_result",
          "data": {
            "text/html": [
              "<div>\n",
              "<style scoped>\n",
              "    .dataframe tbody tr th:only-of-type {\n",
              "        vertical-align: middle;\n",
              "    }\n",
              "\n",
              "    .dataframe tbody tr th {\n",
              "        vertical-align: top;\n",
              "    }\n",
              "\n",
              "    .dataframe thead th {\n",
              "        text-align: right;\n",
              "    }\n",
              "</style>\n",
              "<table border=\"1\" class=\"dataframe\">\n",
              "  <thead>\n",
              "    <tr style=\"text-align: right;\">\n",
              "      <th></th>\n",
              "      <th>EmpEducationLevel</th>\n",
              "      <th>EmpEnvironmentSatisfaction</th>\n",
              "      <th>EmpJobInvolvement</th>\n",
              "      <th>EmpJobLevel</th>\n",
              "      <th>EmpJobSatisfaction</th>\n",
              "      <th>EmpRelationshipSatisfaction</th>\n",
              "      <th>EmpWorkLifeBalance</th>\n",
              "    </tr>\n",
              "    <tr>\n",
              "      <th>EmpNumber</th>\n",
              "      <th></th>\n",
              "      <th></th>\n",
              "      <th></th>\n",
              "      <th></th>\n",
              "      <th></th>\n",
              "      <th></th>\n",
              "      <th></th>\n",
              "    </tr>\n",
              "  </thead>\n",
              "  <tbody>\n",
              "    <tr>\n",
              "      <th>E1001000</th>\n",
              "      <td>3</td>\n",
              "      <td>4</td>\n",
              "      <td>3</td>\n",
              "      <td>2</td>\n",
              "      <td>4</td>\n",
              "      <td>4</td>\n",
              "      <td>2</td>\n",
              "    </tr>\n",
              "    <tr>\n",
              "      <th>E1001006</th>\n",
              "      <td>4</td>\n",
              "      <td>4</td>\n",
              "      <td>3</td>\n",
              "      <td>2</td>\n",
              "      <td>1</td>\n",
              "      <td>4</td>\n",
              "      <td>3</td>\n",
              "    </tr>\n",
              "    <tr>\n",
              "      <th>E1001007</th>\n",
              "      <td>4</td>\n",
              "      <td>4</td>\n",
              "      <td>2</td>\n",
              "      <td>3</td>\n",
              "      <td>1</td>\n",
              "      <td>3</td>\n",
              "      <td>3</td>\n",
              "    </tr>\n",
              "    <tr>\n",
              "      <th>E1001009</th>\n",
              "      <td>4</td>\n",
              "      <td>2</td>\n",
              "      <td>2</td>\n",
              "      <td>5</td>\n",
              "      <td>4</td>\n",
              "      <td>2</td>\n",
              "      <td>2</td>\n",
              "    </tr>\n",
              "    <tr>\n",
              "      <th>E1001010</th>\n",
              "      <td>4</td>\n",
              "      <td>1</td>\n",
              "      <td>3</td>\n",
              "      <td>2</td>\n",
              "      <td>1</td>\n",
              "      <td>4</td>\n",
              "      <td>3</td>\n",
              "    </tr>\n",
              "    <tr>\n",
              "      <th>...</th>\n",
              "      <td>...</td>\n",
              "      <td>...</td>\n",
              "      <td>...</td>\n",
              "      <td>...</td>\n",
              "      <td>...</td>\n",
              "      <td>...</td>\n",
              "      <td>...</td>\n",
              "    </tr>\n",
              "    <tr>\n",
              "      <th>E100992</th>\n",
              "      <td>1</td>\n",
              "      <td>4</td>\n",
              "      <td>4</td>\n",
              "      <td>2</td>\n",
              "      <td>4</td>\n",
              "      <td>2</td>\n",
              "      <td>3</td>\n",
              "    </tr>\n",
              "    <tr>\n",
              "      <th>E100993</th>\n",
              "      <td>2</td>\n",
              "      <td>4</td>\n",
              "      <td>4</td>\n",
              "      <td>1</td>\n",
              "      <td>4</td>\n",
              "      <td>1</td>\n",
              "      <td>3</td>\n",
              "    </tr>\n",
              "    <tr>\n",
              "      <th>E100994</th>\n",
              "      <td>1</td>\n",
              "      <td>4</td>\n",
              "      <td>4</td>\n",
              "      <td>1</td>\n",
              "      <td>3</td>\n",
              "      <td>3</td>\n",
              "      <td>3</td>\n",
              "    </tr>\n",
              "    <tr>\n",
              "      <th>E100995</th>\n",
              "      <td>3</td>\n",
              "      <td>4</td>\n",
              "      <td>2</td>\n",
              "      <td>3</td>\n",
              "      <td>2</td>\n",
              "      <td>2</td>\n",
              "      <td>4</td>\n",
              "    </tr>\n",
              "    <tr>\n",
              "      <th>E100998</th>\n",
              "      <td>2</td>\n",
              "      <td>1</td>\n",
              "      <td>3</td>\n",
              "      <td>2</td>\n",
              "      <td>3</td>\n",
              "      <td>1</td>\n",
              "      <td>3</td>\n",
              "    </tr>\n",
              "  </tbody>\n",
              "</table>\n",
              "<p>1200 rows × 7 columns</p>\n",
              "</div>"
            ],
            "text/plain": [
              "           EmpEducationLevel  ...  EmpWorkLifeBalance\n",
              "EmpNumber                     ...                    \n",
              "E1001000                   3  ...                   2\n",
              "E1001006                   4  ...                   3\n",
              "E1001007                   4  ...                   3\n",
              "E1001009                   4  ...                   2\n",
              "E1001010                   4  ...                   3\n",
              "...                      ...  ...                 ...\n",
              "E100992                    1  ...                   3\n",
              "E100993                    2  ...                   3\n",
              "E100994                    1  ...                   3\n",
              "E100995                    3  ...                   4\n",
              "E100998                    2  ...                   3\n",
              "\n",
              "[1200 rows x 7 columns]"
            ]
          },
          "metadata": {
            "tags": []
          },
          "execution_count": 8
        }
      ]
    },
    {
      "cell_type": "markdown",
      "metadata": {
        "id": "w-BuUjpsBRLf"
      },
      "source": [
        "## numerical features"
      ]
    },
    {
      "cell_type": "code",
      "metadata": {
        "colab": {
          "base_uri": "https://localhost:8080/",
          "height": 466
        },
        "id": "a5qGu-NYA8hP",
        "outputId": "c0637f86-3582-45c6-9c67-d087cbd861e2"
      },
      "source": [
        "num_data = df[['Age','DistanceFromHome','EmpHourlyRate','NumCompaniesWorked','EmpLastSalaryHikePercent', 'TotalWorkExperienceInYears',\n",
        "              'TrainingTimesLastYear','ExperienceYearsAtThisCompany','ExperienceYearsInCurrentRole','YearsSinceLastPromotion',\n",
        "              'YearsWithCurrManager']]\n",
        "num_data"
      ],
      "execution_count": null,
      "outputs": [
        {
          "output_type": "execute_result",
          "data": {
            "text/html": [
              "<div>\n",
              "<style scoped>\n",
              "    .dataframe tbody tr th:only-of-type {\n",
              "        vertical-align: middle;\n",
              "    }\n",
              "\n",
              "    .dataframe tbody tr th {\n",
              "        vertical-align: top;\n",
              "    }\n",
              "\n",
              "    .dataframe thead th {\n",
              "        text-align: right;\n",
              "    }\n",
              "</style>\n",
              "<table border=\"1\" class=\"dataframe\">\n",
              "  <thead>\n",
              "    <tr style=\"text-align: right;\">\n",
              "      <th></th>\n",
              "      <th>Age</th>\n",
              "      <th>DistanceFromHome</th>\n",
              "      <th>EmpHourlyRate</th>\n",
              "      <th>NumCompaniesWorked</th>\n",
              "      <th>EmpLastSalaryHikePercent</th>\n",
              "      <th>TotalWorkExperienceInYears</th>\n",
              "      <th>TrainingTimesLastYear</th>\n",
              "      <th>ExperienceYearsAtThisCompany</th>\n",
              "      <th>ExperienceYearsInCurrentRole</th>\n",
              "      <th>YearsSinceLastPromotion</th>\n",
              "      <th>YearsWithCurrManager</th>\n",
              "    </tr>\n",
              "    <tr>\n",
              "      <th>EmpNumber</th>\n",
              "      <th></th>\n",
              "      <th></th>\n",
              "      <th></th>\n",
              "      <th></th>\n",
              "      <th></th>\n",
              "      <th></th>\n",
              "      <th></th>\n",
              "      <th></th>\n",
              "      <th></th>\n",
              "      <th></th>\n",
              "      <th></th>\n",
              "    </tr>\n",
              "  </thead>\n",
              "  <tbody>\n",
              "    <tr>\n",
              "      <th>E1001000</th>\n",
              "      <td>32</td>\n",
              "      <td>10</td>\n",
              "      <td>55</td>\n",
              "      <td>1</td>\n",
              "      <td>12</td>\n",
              "      <td>10</td>\n",
              "      <td>2</td>\n",
              "      <td>10</td>\n",
              "      <td>7</td>\n",
              "      <td>0</td>\n",
              "      <td>8</td>\n",
              "    </tr>\n",
              "    <tr>\n",
              "      <th>E1001006</th>\n",
              "      <td>47</td>\n",
              "      <td>14</td>\n",
              "      <td>42</td>\n",
              "      <td>2</td>\n",
              "      <td>12</td>\n",
              "      <td>20</td>\n",
              "      <td>2</td>\n",
              "      <td>7</td>\n",
              "      <td>7</td>\n",
              "      <td>1</td>\n",
              "      <td>7</td>\n",
              "    </tr>\n",
              "    <tr>\n",
              "      <th>E1001007</th>\n",
              "      <td>40</td>\n",
              "      <td>5</td>\n",
              "      <td>48</td>\n",
              "      <td>5</td>\n",
              "      <td>21</td>\n",
              "      <td>20</td>\n",
              "      <td>2</td>\n",
              "      <td>18</td>\n",
              "      <td>13</td>\n",
              "      <td>1</td>\n",
              "      <td>12</td>\n",
              "    </tr>\n",
              "    <tr>\n",
              "      <th>E1001009</th>\n",
              "      <td>41</td>\n",
              "      <td>10</td>\n",
              "      <td>73</td>\n",
              "      <td>3</td>\n",
              "      <td>15</td>\n",
              "      <td>23</td>\n",
              "      <td>2</td>\n",
              "      <td>21</td>\n",
              "      <td>6</td>\n",
              "      <td>12</td>\n",
              "      <td>6</td>\n",
              "    </tr>\n",
              "    <tr>\n",
              "      <th>E1001010</th>\n",
              "      <td>60</td>\n",
              "      <td>16</td>\n",
              "      <td>84</td>\n",
              "      <td>8</td>\n",
              "      <td>14</td>\n",
              "      <td>10</td>\n",
              "      <td>1</td>\n",
              "      <td>2</td>\n",
              "      <td>2</td>\n",
              "      <td>2</td>\n",
              "      <td>2</td>\n",
              "    </tr>\n",
              "    <tr>\n",
              "      <th>...</th>\n",
              "      <td>...</td>\n",
              "      <td>...</td>\n",
              "      <td>...</td>\n",
              "      <td>...</td>\n",
              "      <td>...</td>\n",
              "      <td>...</td>\n",
              "      <td>...</td>\n",
              "      <td>...</td>\n",
              "      <td>...</td>\n",
              "      <td>...</td>\n",
              "      <td>...</td>\n",
              "    </tr>\n",
              "    <tr>\n",
              "      <th>E100992</th>\n",
              "      <td>27</td>\n",
              "      <td>3</td>\n",
              "      <td>71</td>\n",
              "      <td>1</td>\n",
              "      <td>20</td>\n",
              "      <td>6</td>\n",
              "      <td>3</td>\n",
              "      <td>6</td>\n",
              "      <td>5</td>\n",
              "      <td>0</td>\n",
              "      <td>4</td>\n",
              "    </tr>\n",
              "    <tr>\n",
              "      <th>E100993</th>\n",
              "      <td>37</td>\n",
              "      <td>10</td>\n",
              "      <td>80</td>\n",
              "      <td>3</td>\n",
              "      <td>17</td>\n",
              "      <td>4</td>\n",
              "      <td>2</td>\n",
              "      <td>1</td>\n",
              "      <td>0</td>\n",
              "      <td>0</td>\n",
              "      <td>0</td>\n",
              "    </tr>\n",
              "    <tr>\n",
              "      <th>E100994</th>\n",
              "      <td>50</td>\n",
              "      <td>28</td>\n",
              "      <td>74</td>\n",
              "      <td>1</td>\n",
              "      <td>11</td>\n",
              "      <td>20</td>\n",
              "      <td>3</td>\n",
              "      <td>20</td>\n",
              "      <td>8</td>\n",
              "      <td>3</td>\n",
              "      <td>8</td>\n",
              "    </tr>\n",
              "    <tr>\n",
              "      <th>E100995</th>\n",
              "      <td>34</td>\n",
              "      <td>9</td>\n",
              "      <td>46</td>\n",
              "      <td>1</td>\n",
              "      <td>14</td>\n",
              "      <td>9</td>\n",
              "      <td>3</td>\n",
              "      <td>8</td>\n",
              "      <td>7</td>\n",
              "      <td>7</td>\n",
              "      <td>7</td>\n",
              "    </tr>\n",
              "    <tr>\n",
              "      <th>E100998</th>\n",
              "      <td>24</td>\n",
              "      <td>3</td>\n",
              "      <td>65</td>\n",
              "      <td>9</td>\n",
              "      <td>14</td>\n",
              "      <td>4</td>\n",
              "      <td>3</td>\n",
              "      <td>2</td>\n",
              "      <td>2</td>\n",
              "      <td>2</td>\n",
              "      <td>0</td>\n",
              "    </tr>\n",
              "  </tbody>\n",
              "</table>\n",
              "<p>1200 rows × 11 columns</p>\n",
              "</div>"
            ],
            "text/plain": [
              "           Age  DistanceFromHome  ...  YearsSinceLastPromotion  YearsWithCurrManager\n",
              "EmpNumber                         ...                                               \n",
              "E1001000    32                10  ...                        0                     8\n",
              "E1001006    47                14  ...                        1                     7\n",
              "E1001007    40                 5  ...                        1                    12\n",
              "E1001009    41                10  ...                       12                     6\n",
              "E1001010    60                16  ...                        2                     2\n",
              "...        ...               ...  ...                      ...                   ...\n",
              "E100992     27                 3  ...                        0                     4\n",
              "E100993     37                10  ...                        0                     0\n",
              "E100994     50                28  ...                        3                     8\n",
              "E100995     34                 9  ...                        7                     7\n",
              "E100998     24                 3  ...                        2                     0\n",
              "\n",
              "[1200 rows x 11 columns]"
            ]
          },
          "metadata": {
            "tags": []
          },
          "execution_count": 9
        }
      ]
    },
    {
      "cell_type": "markdown",
      "metadata": {
        "id": "QGr7jvVofXOf"
      },
      "source": [
        "## Check for Normal Distribution\n",
        "#### Checking weather the data is normally distributed or NOT"
      ]
    },
    {
      "cell_type": "code",
      "metadata": {
        "colab": {
          "base_uri": "https://localhost:8080/",
          "height": 1000
        },
        "id": "Uu-NNnxEfXOg",
        "outputId": "1065954a-b87b-4e2e-d42b-680497a69609"
      },
      "source": [
        "sns.set(rc={\"font.size\":15,\"axes.titlesize\":20,\"axes.labelsize\":15,\"xtick.labelsize\":10,\"ytick.labelsize\":10,\n",
        "            \"legend.fontsize\":8},style=\"darkgrid\")\n",
        "ord_cols=df.select_dtypes(exclude=\"object\").copy()\n",
        "fig = plt.figure(figsize=(15,25),dpi=100)\n",
        "for index,col in enumerate(ord_data):\n",
        "    plt.subplot(7,2,index+1)\n",
        "    sns.distplot(ord_data.loc[:,col].dropna(),kde=True,bins=30,color=\"red\")\n",
        "fig.tight_layout(pad=4.0)"
      ],
      "execution_count": null,
      "outputs": [
        {
          "output_type": "display_data",
          "data": {
            "image/png": "[encoded data removed]",
            "text/plain": [
              "<Figure size 1500x2500 with 7 Axes>"
            ]
          },
          "metadata": {
            "tags": []
          }
        }
      ]
    },
    {
      "cell_type": "code",
      "metadata": {
        "colab": {
          "base_uri": "https://localhost:8080/"
        },
        "id": "EX936EqdfXOh",
        "outputId": "93704cba-c9b6-4583-e9ca-3038367b152e"
      },
      "source": [
        "# Defining a funition for checking  skewness\n",
        "from scipy.stats import skew, kurtosis\n",
        "def skewedness(data):\n",
        "    skewed=[]\n",
        "    for col in data:\n",
        "        sk=skew(data[col])\n",
        "        if(sk>=1.96 or sk<=-1.96):\n",
        "            skewed.append(col)\n",
        "    return skewed\n",
        "\n",
        "print(skewedness(num_data))\n",
        "print('Range of skewness & kurtosis: S< |1.96|')\n",
        "# Checking Kurtosis\n",
        "print('skewness for YearsSinceLastPromotion:',skew(num_data.YearsSinceLastPromotion))\n",
        "print('kurtosis for YearsSinceLastPromotion:',kurtosis(num_data.YearsSinceLastPromotion))"
      ],
      "execution_count": null,
      "outputs": [
        {
          "output_type": "stream",
          "text": [
            "['YearsSinceLastPromotion']\n",
            "Range of skewness & kurtosis: S< |1.96|\n",
            "skewness for YearsSinceLastPromotion: 1.9724620367914252\n",
            "kurtosis for YearsSinceLastPromotion: 3.5193552691799805\n"
          ],
          "name": "stdout"
        }
      ]
    },
    {
      "cell_type": "markdown",
      "metadata": {
        "id": "3miqmcrUfXOi"
      },
      "source": [
        "## Transforming Skewed Data for Machine Learning"
      ]
    },
    {
      "cell_type": "code",
      "metadata": {
        "id": "crzEOUasAVxM"
      },
      "source": [
        ""
      ],
      "execution_count": null,
      "outputs": []
    },
    {
      "cell_type": "code",
      "metadata": {
        "colab": {
          "base_uri": "https://localhost:8080/",
          "height": 450
        },
        "id": "QIJVXebHfXOj",
        "outputId": "eb97a43d-5451-4839-8cb2-6b015ccedfda"
      },
      "source": [
        "# Set figure size for the notebook\n",
        "plt.rcParams[\"figure.figsize\"]=10,7\n",
        "#dist plot\n",
        "sns.distplot(num_data['YearsSinceLastPromotion'],color=\"red\")\n",
        "plt.show()"
      ],
      "execution_count": null,
      "outputs": [
        {
          "output_type": "display_data",
          "data": {
            "image/png": "[encoded data removed]",
            "text/plain": [
              "<Figure size 720x504 with 1 Axes>"
            ]
          },
          "metadata": {
            "tags": []
          }
        }
      ]
    },
    {
      "cell_type": "markdown",
      "metadata": {
        "id": "nWk4CK-cfXOk"
      },
      "source": [
        "### Square Root Transformation"
      ]
    },
    {
      "cell_type": "code",
      "metadata": {
        "id": "4eRFvBhofXOl"
      },
      "source": [
        "# applying square root to the skewed column\n",
        "num_data['YearsSinceLastPromotion'] = np.sqrt(num_data['YearsSinceLastPromotion'])"
      ],
      "execution_count": null,
      "outputs": []
    },
    {
      "cell_type": "code",
      "metadata": {
        "colab": {
          "base_uri": "https://localhost:8080/"
        },
        "id": "EME08aWNfXOm",
        "outputId": "b81bc162-8b4e-4f41-a5ff-ccdf7e202ed5"
      },
      "source": [
        "num_data['YearsSinceLastPromotion'].skew()"
      ],
      "execution_count": null,
      "outputs": [
        {
          "output_type": "execute_result",
          "data": {
            "text/plain": [
              "0.7350121906940618"
            ]
          },
          "metadata": {
            "tags": []
          },
          "execution_count": 14
        }
      ]
    },
    {
      "cell_type": "code",
      "metadata": {
        "colab": {
          "base_uri": "https://localhost:8080/"
        },
        "id": "1IofivFKfXOn",
        "outputId": "50461c8f-36fa-4865-f400-806656f884eb"
      },
      "source": [
        "# After transforming the data\n",
        "plt.rcParams[\"figure.figsize\"]=10,7\n",
        "#dist plot\n",
        "sns.distplot(num_data['YearsSinceLastPromotion'],color=\"red\")\n",
        "plt.show()"
      ],
      "execution_count": null,
      "outputs": [
        {
          "output_type": "display_data",
          "data": {
            "image/png": "[encoded data removed]",
            "text/plain": [
              "<Figure size 720x504 with 1 Axes>"
            ]
          },
          "metadata": {
            "tags": []
          }
        }
      ]
    },
    {
      "cell_type": "code",
      "metadata": {
        "colab": {
          "base_uri": "https://localhost:8080/"
        },
        "id": "BK7k0llafXOo",
        "outputId": "5d94db69-c8aa-4a63-8e2c-f95cbf30622d"
      },
      "source": [
        "num_data['YearsSinceLastPromotion']"
      ],
      "execution_count": null,
      "outputs": [
        {
          "output_type": "execute_result",
          "data": {
            "text/plain": [
              "EmpNumber\n",
              "E1001000    0.000000\n",
              "E1001006    1.000000\n",
              "E1001007    1.000000\n",
              "E1001009    3.464102\n",
              "E1001010    1.414214\n",
              "              ...   \n",
              "E100992     0.000000\n",
              "E100993     0.000000\n",
              "E100994     1.732051\n",
              "E100995     2.645751\n",
              "E100998     1.414214\n",
              "Name: YearsSinceLastPromotion, Length: 1200, dtype: float64"
            ]
          },
          "metadata": {
            "tags": []
          },
          "execution_count": 16
        }
      ]
    },
    {
      "cell_type": "code",
      "metadata": {
        "colab": {
          "base_uri": "https://localhost:8080/"
        },
        "id": "0QXALPRIfXOo",
        "outputId": "05aa7aab-d7fe-448f-d554-bdcca7e6ad69"
      },
      "source": [
        "# checking for skewed columns\n",
        "from scipy.stats import skew, kurtosis\n",
        "def skewedness(data):\n",
        "    skewed=[]\n",
        "    for col in data:\n",
        "        sk=skew(data[col])\n",
        "        if(sk>=1.96 or sk<=-1.96):\n",
        "            skewed.append(col)\n",
        "    return skewed\n",
        "\n",
        "print(skewedness(ord_data))"
      ],
      "execution_count": null,
      "outputs": [
        {
          "output_type": "stream",
          "text": [
            "[]\n"
          ],
          "name": "stdout"
        }
      ]
    },
    {
      "cell_type": "markdown",
      "metadata": {
        "id": "CnQokRDSfXOp"
      },
      "source": [
        "## Ordinal features"
      ]
    },
    {
      "cell_type": "code",
      "metadata": {
        "colab": {
          "base_uri": "https://localhost:8080/"
        },
        "id": "1Jbe5AErfXOq",
        "outputId": "14476bf2-03cb-4be3-c780-e72e0158b137"
      },
      "source": [
        " # Defing ordinal features\n",
        "\n",
        "ord_data = df[['EmpEducationLevel','EmpEnvironmentSatisfaction','EmpJobInvolvement','EmpJobLevel','EmpJobSatisfaction',\n",
        "'EmpRelationshipSatisfaction','EmpWorkLifeBalance']]\n",
        "# figure size for the notebook\n",
        "plt.figure(figsize=(15,25))\n",
        "# Creating loop for ploting ordinal features\n",
        "for index,cols in enumerate(ord_data):\n",
        "    plt.subplot(7,2,index+1)\n",
        "    sns.distplot(ord_data.loc[:,cols],color=\"red\")\n",
        "plt.tight_layout(pad=2)"
      ],
      "execution_count": null,
      "outputs": [
        {
          "output_type": "display_data",
          "data": {
            "image/png": "[encoded data removed]",
            "text/plain": [
              "<Figure size 1080x1800 with 7 Axes>"
            ]
          },
          "metadata": {
            "tags": []
          }
        }
      ]
    },
    {
      "cell_type": "code",
      "metadata": {
        "id": "vpg8IjDZU5n3"
      },
      "source": [
        ""
      ],
      "execution_count": null,
      "outputs": []
    },
    {
      "cell_type": "markdown",
      "metadata": {
        "id": "Ddf0OCgZfXOr"
      },
      "source": [
        "## Categorical features"
      ]
    },
    {
      "cell_type": "code",
      "metadata": {
        "colab": {
          "base_uri": "https://localhost:8080/"
        },
        "id": "VXwigHE1fXOr",
        "outputId": "a3021a1b-45e6-402e-fa3c-beddaf0ee136"
      },
      "source": [
        "# storing object type data in obj_data variable\n",
        "obj_data = df.select_dtypes(include=\"object\")\n",
        "obj_data"
      ],
      "execution_count": null,
      "outputs": [
        {
          "output_type": "execute_result",
          "data": {
            "text/html": [
              "<div>\n",
              "<style scoped>\n",
              "    .dataframe tbody tr th:only-of-type {\n",
              "        vertical-align: middle;\n",
              "    }\n",
              "\n",
              "    .dataframe tbody tr th {\n",
              "        vertical-align: top;\n",
              "    }\n",
              "\n",
              "    .dataframe thead th {\n",
              "        text-align: right;\n",
              "    }\n",
              "</style>\n",
              "<table border=\"1\" class=\"dataframe\">\n",
              "  <thead>\n",
              "    <tr style=\"text-align: right;\">\n",
              "      <th></th>\n",
              "      <th>Gender</th>\n",
              "      <th>EducationBackground</th>\n",
              "      <th>MaritalStatus</th>\n",
              "      <th>EmpDepartment</th>\n",
              "      <th>EmpJobRole</th>\n",
              "      <th>BusinessTravelFrequency</th>\n",
              "      <th>OverTime</th>\n",
              "      <th>Attrition</th>\n",
              "    </tr>\n",
              "    <tr>\n",
              "      <th>EmpNumber</th>\n",
              "      <th></th>\n",
              "      <th></th>\n",
              "      <th></th>\n",
              "      <th></th>\n",
              "      <th></th>\n",
              "      <th></th>\n",
              "      <th></th>\n",
              "      <th></th>\n",
              "    </tr>\n",
              "  </thead>\n",
              "  <tbody>\n",
              "    <tr>\n",
              "      <th>E1001000</th>\n",
              "      <td>Male</td>\n",
              "      <td>Marketing</td>\n",
              "      <td>Single</td>\n",
              "      <td>Sales</td>\n",
              "      <td>Sales Executive</td>\n",
              "      <td>Travel_Rarely</td>\n",
              "      <td>No</td>\n",
              "      <td>No</td>\n",
              "    </tr>\n",
              "    <tr>\n",
              "      <th>E1001006</th>\n",
              "      <td>Male</td>\n",
              "      <td>Marketing</td>\n",
              "      <td>Single</td>\n",
              "      <td>Sales</td>\n",
              "      <td>Sales Executive</td>\n",
              "      <td>Travel_Rarely</td>\n",
              "      <td>No</td>\n",
              "      <td>No</td>\n",
              "    </tr>\n",
              "    <tr>\n",
              "      <th>E1001007</th>\n",
              "      <td>Male</td>\n",
              "      <td>Life Sciences</td>\n",
              "      <td>Married</td>\n",
              "      <td>Sales</td>\n",
              "      <td>Sales Executive</td>\n",
              "      <td>Travel_Frequently</td>\n",
              "      <td>Yes</td>\n",
              "      <td>No</td>\n",
              "    </tr>\n",
              "    <tr>\n",
              "      <th>E1001009</th>\n",
              "      <td>Male</td>\n",
              "      <td>Human Resources</td>\n",
              "      <td>Divorced</td>\n",
              "      <td>Human Resources</td>\n",
              "      <td>Manager</td>\n",
              "      <td>Travel_Rarely</td>\n",
              "      <td>No</td>\n",
              "      <td>No</td>\n",
              "    </tr>\n",
              "    <tr>\n",
              "      <th>E1001010</th>\n",
              "      <td>Male</td>\n",
              "      <td>Marketing</td>\n",
              "      <td>Single</td>\n",
              "      <td>Sales</td>\n",
              "      <td>Sales Executive</td>\n",
              "      <td>Travel_Rarely</td>\n",
              "      <td>No</td>\n",
              "      <td>No</td>\n",
              "    </tr>\n",
              "    <tr>\n",
              "      <th>...</th>\n",
              "      <td>...</td>\n",
              "      <td>...</td>\n",
              "      <td>...</td>\n",
              "      <td>...</td>\n",
              "      <td>...</td>\n",
              "      <td>...</td>\n",
              "      <td>...</td>\n",
              "      <td>...</td>\n",
              "    </tr>\n",
              "    <tr>\n",
              "      <th>E100992</th>\n",
              "      <td>Female</td>\n",
              "      <td>Medical</td>\n",
              "      <td>Divorced</td>\n",
              "      <td>Sales</td>\n",
              "      <td>Sales Executive</td>\n",
              "      <td>Travel_Frequently</td>\n",
              "      <td>Yes</td>\n",
              "      <td>No</td>\n",
              "    </tr>\n",
              "    <tr>\n",
              "      <th>E100993</th>\n",
              "      <td>Male</td>\n",
              "      <td>Life Sciences</td>\n",
              "      <td>Single</td>\n",
              "      <td>Development</td>\n",
              "      <td>Senior Developer</td>\n",
              "      <td>Travel_Rarely</td>\n",
              "      <td>No</td>\n",
              "      <td>No</td>\n",
              "    </tr>\n",
              "    <tr>\n",
              "      <th>E100994</th>\n",
              "      <td>Male</td>\n",
              "      <td>Medical</td>\n",
              "      <td>Married</td>\n",
              "      <td>Development</td>\n",
              "      <td>Senior Developer</td>\n",
              "      <td>Travel_Rarely</td>\n",
              "      <td>Yes</td>\n",
              "      <td>No</td>\n",
              "    </tr>\n",
              "    <tr>\n",
              "      <th>E100995</th>\n",
              "      <td>Female</td>\n",
              "      <td>Medical</td>\n",
              "      <td>Single</td>\n",
              "      <td>Data Science</td>\n",
              "      <td>Data Scientist</td>\n",
              "      <td>Travel_Rarely</td>\n",
              "      <td>No</td>\n",
              "      <td>No</td>\n",
              "    </tr>\n",
              "    <tr>\n",
              "      <th>E100998</th>\n",
              "      <td>Female</td>\n",
              "      <td>Life Sciences</td>\n",
              "      <td>Single</td>\n",
              "      <td>Sales</td>\n",
              "      <td>Sales Executive</td>\n",
              "      <td>Travel_Rarely</td>\n",
              "      <td>No</td>\n",
              "      <td>Yes</td>\n",
              "    </tr>\n",
              "  </tbody>\n",
              "</table>\n",
              "<p>1200 rows × 8 columns</p>\n",
              "</div>"
            ],
            "text/plain": [
              "           Gender EducationBackground  ... OverTime Attrition\n",
              "EmpNumber                              ...                   \n",
              "E1001000     Male           Marketing  ...       No        No\n",
              "E1001006     Male           Marketing  ...       No        No\n",
              "E1001007     Male       Life Sciences  ...      Yes        No\n",
              "E1001009     Male     Human Resources  ...       No        No\n",
              "E1001010     Male           Marketing  ...       No        No\n",
              "...           ...                 ...  ...      ...       ...\n",
              "E100992    Female             Medical  ...      Yes        No\n",
              "E100993      Male       Life Sciences  ...       No        No\n",
              "E100994      Male             Medical  ...      Yes        No\n",
              "E100995    Female             Medical  ...       No        No\n",
              "E100998    Female       Life Sciences  ...       No       Yes\n",
              "\n",
              "[1200 rows x 8 columns]"
            ]
          },
          "metadata": {
            "tags": []
          },
          "execution_count": 19
        }
      ]
    },
    {
      "cell_type": "markdown",
      "metadata": {
        "id": "KLDISScufXOs"
      },
      "source": [
        "# Checking for Nan/ Null values"
      ]
    },
    {
      "cell_type": "code",
      "metadata": {
        "colab": {
          "base_uri": "https://localhost:8080/"
        },
        "id": "UYGiN1gWfXOt",
        "outputId": "0397e51b-400e-40de-9fd2-b2552ce1b6e4"
      },
      "source": [
        "# check for numerical data\n",
        "num_data.isna().sum()"
      ],
      "execution_count": null,
      "outputs": [
        {
          "output_type": "execute_result",
          "data": {
            "text/plain": [
              "Age                             0\n",
              "DistanceFromHome                0\n",
              "EmpHourlyRate                   0\n",
              "NumCompaniesWorked              0\n",
              "EmpLastSalaryHikePercent        0\n",
              "TotalWorkExperienceInYears      0\n",
              "TrainingTimesLastYear           0\n",
              "ExperienceYearsAtThisCompany    0\n",
              "ExperienceYearsInCurrentRole    0\n",
              "YearsSinceLastPromotion         0\n",
              "YearsWithCurrManager            0\n",
              "dtype: int64"
            ]
          },
          "metadata": {
            "tags": []
          },
          "execution_count": 20
        }
      ]
    },
    {
      "cell_type": "code",
      "metadata": {
        "colab": {
          "base_uri": "https://localhost:8080/"
        },
        "id": "MxTtjlN0fXOu",
        "outputId": "f1a074f8-6195-4706-c507-888c0c4c411a"
      },
      "source": [
        "# Check for ordianal data\n",
        "ord_data.isna().sum()"
      ],
      "execution_count": null,
      "outputs": [
        {
          "output_type": "execute_result",
          "data": {
            "text/plain": [
              "EmpEducationLevel              0\n",
              "EmpEnvironmentSatisfaction     0\n",
              "EmpJobInvolvement              0\n",
              "EmpJobLevel                    0\n",
              "EmpJobSatisfaction             0\n",
              "EmpRelationshipSatisfaction    0\n",
              "EmpWorkLifeBalance             0\n",
              "dtype: int64"
            ]
          },
          "metadata": {
            "tags": []
          },
          "execution_count": 21
        }
      ]
    },
    {
      "cell_type": "code",
      "metadata": {
        "colab": {
          "base_uri": "https://localhost:8080/"
        },
        "id": "YiDzc8lvfXOv",
        "outputId": "4c1afbc5-2dae-44e2-af10-1e4fc60185a9"
      },
      "source": [
        "# Check for categorical data\n",
        "obj_data.isna().sum()"
      ],
      "execution_count": null,
      "outputs": [
        {
          "output_type": "execute_result",
          "data": {
            "text/plain": [
              "Gender                     0\n",
              "EducationBackground        0\n",
              "MaritalStatus              0\n",
              "EmpDepartment              0\n",
              "EmpJobRole                 0\n",
              "BusinessTravelFrequency    0\n",
              "OverTime                   0\n",
              "Attrition                  0\n",
              "dtype: int64"
            ]
          },
          "metadata": {
            "tags": []
          },
          "execution_count": 22
        }
      ]
    },
    {
      "cell_type": "code",
      "metadata": {
        "colab": {
          "base_uri": "https://localhost:8080/",
          "height": 640
        },
        "id": "Oq1nWWKifXOw",
        "outputId": "f022df62-e7ff-4f14-d6dd-38de0be3013a"
      },
      "source": [
        "# combining numerical, ordinal & categorial features\n",
        "final_df = pd.concat([num_data,ord_data,obj_data,df['PerformanceRating']], axis=1)\n",
        "final_df"
      ],
      "execution_count": null,
      "outputs": [
        {
          "output_type": "execute_result",
          "data": {
            "text/html": [
              "<div>\n",
              "<style scoped>\n",
              "    .dataframe tbody tr th:only-of-type {\n",
              "        vertical-align: middle;\n",
              "    }\n",
              "\n",
              "    .dataframe tbody tr th {\n",
              "        vertical-align: top;\n",
              "    }\n",
              "\n",
              "    .dataframe thead th {\n",
              "        text-align: right;\n",
              "    }\n",
              "</style>\n",
              "<table border=\"1\" class=\"dataframe\">\n",
              "  <thead>\n",
              "    <tr style=\"text-align: right;\">\n",
              "      <th></th>\n",
              "      <th>Age</th>\n",
              "      <th>DistanceFromHome</th>\n",
              "      <th>EmpHourlyRate</th>\n",
              "      <th>NumCompaniesWorked</th>\n",
              "      <th>EmpLastSalaryHikePercent</th>\n",
              "      <th>TotalWorkExperienceInYears</th>\n",
              "      <th>TrainingTimesLastYear</th>\n",
              "      <th>ExperienceYearsAtThisCompany</th>\n",
              "      <th>ExperienceYearsInCurrentRole</th>\n",
              "      <th>YearsSinceLastPromotion</th>\n",
              "      <th>YearsWithCurrManager</th>\n",
              "      <th>EmpEducationLevel</th>\n",
              "      <th>EmpEnvironmentSatisfaction</th>\n",
              "      <th>EmpJobInvolvement</th>\n",
              "      <th>EmpJobLevel</th>\n",
              "      <th>EmpJobSatisfaction</th>\n",
              "      <th>EmpRelationshipSatisfaction</th>\n",
              "      <th>EmpWorkLifeBalance</th>\n",
              "      <th>Gender</th>\n",
              "      <th>EducationBackground</th>\n",
              "      <th>MaritalStatus</th>\n",
              "      <th>EmpDepartment</th>\n",
              "      <th>EmpJobRole</th>\n",
              "      <th>BusinessTravelFrequency</th>\n",
              "      <th>OverTime</th>\n",
              "      <th>Attrition</th>\n",
              "      <th>PerformanceRating</th>\n",
              "    </tr>\n",
              "    <tr>\n",
              "      <th>EmpNumber</th>\n",
              "      <th></th>\n",
              "      <th></th>\n",
              "      <th></th>\n",
              "      <th></th>\n",
              "      <th></th>\n",
              "      <th></th>\n",
              "      <th></th>\n",
              "      <th></th>\n",
              "      <th></th>\n",
              "      <th></th>\n",
              "      <th></th>\n",
              "      <th></th>\n",
              "      <th></th>\n",
              "      <th></th>\n",
              "      <th></th>\n",
              "      <th></th>\n",
              "      <th></th>\n",
              "      <th></th>\n",
              "      <th></th>\n",
              "      <th></th>\n",
              "      <th></th>\n",
              "      <th></th>\n",
              "      <th></th>\n",
              "      <th></th>\n",
              "      <th></th>\n",
              "      <th></th>\n",
              "      <th></th>\n",
              "    </tr>\n",
              "  </thead>\n",
              "  <tbody>\n",
              "    <tr>\n",
              "      <th>E1001000</th>\n",
              "      <td>32</td>\n",
              "      <td>10</td>\n",
              "      <td>55</td>\n",
              "      <td>1</td>\n",
              "      <td>12</td>\n",
              "      <td>10</td>\n",
              "      <td>2</td>\n",
              "      <td>10</td>\n",
              "      <td>7</td>\n",
              "      <td>0.000000</td>\n",
              "      <td>8</td>\n",
              "      <td>3</td>\n",
              "      <td>4</td>\n",
              "      <td>3</td>\n",
              "      <td>2</td>\n",
              "      <td>4</td>\n",
              "      <td>4</td>\n",
              "      <td>2</td>\n",
              "      <td>Male</td>\n",
              "      <td>Marketing</td>\n",
              "      <td>Single</td>\n",
              "      <td>Sales</td>\n",
              "      <td>Sales Executive</td>\n",
              "      <td>Travel_Rarely</td>\n",
              "      <td>No</td>\n",
              "      <td>No</td>\n",
              "      <td>3</td>\n",
              "    </tr>\n",
              "    <tr>\n",
              "      <th>E1001006</th>\n",
              "      <td>47</td>\n",
              "      <td>14</td>\n",
              "      <td>42</td>\n",
              "      <td>2</td>\n",
              "      <td>12</td>\n",
              "      <td>20</td>\n",
              "      <td>2</td>\n",
              "      <td>7</td>\n",
              "      <td>7</td>\n",
              "      <td>1.000000</td>\n",
              "      <td>7</td>\n",
              "      <td>4</td>\n",
              "      <td>4</td>\n",
              "      <td>3</td>\n",
              "      <td>2</td>\n",
              "      <td>1</td>\n",
              "      <td>4</td>\n",
              "      <td>3</td>\n",
              "      <td>Male</td>\n",
              "      <td>Marketing</td>\n",
              "      <td>Single</td>\n",
              "      <td>Sales</td>\n",
              "      <td>Sales Executive</td>\n",
              "      <td>Travel_Rarely</td>\n",
              "      <td>No</td>\n",
              "      <td>No</td>\n",
              "      <td>3</td>\n",
              "    </tr>\n",
              "    <tr>\n",
              "      <th>E1001007</th>\n",
              "      <td>40</td>\n",
              "      <td>5</td>\n",
              "      <td>48</td>\n",
              "      <td>5</td>\n",
              "      <td>21</td>\n",
              "      <td>20</td>\n",
              "      <td>2</td>\n",
              "      <td>18</td>\n",
              "      <td>13</td>\n",
              "      <td>1.000000</td>\n",
              "      <td>12</td>\n",
              "      <td>4</td>\n",
              "      <td>4</td>\n",
              "      <td>2</td>\n",
              "      <td>3</td>\n",
              "      <td>1</td>\n",
              "      <td>3</td>\n",
              "      <td>3</td>\n",
              "      <td>Male</td>\n",
              "      <td>Life Sciences</td>\n",
              "      <td>Married</td>\n",
              "      <td>Sales</td>\n",
              "      <td>Sales Executive</td>\n",
              "      <td>Travel_Frequently</td>\n",
              "      <td>Yes</td>\n",
              "      <td>No</td>\n",
              "      <td>4</td>\n",
              "    </tr>\n",
              "    <tr>\n",
              "      <th>E1001009</th>\n",
              "      <td>41</td>\n",
              "      <td>10</td>\n",
              "      <td>73</td>\n",
              "      <td>3</td>\n",
              "      <td>15</td>\n",
              "      <td>23</td>\n",
              "      <td>2</td>\n",
              "      <td>21</td>\n",
              "      <td>6</td>\n",
              "      <td>3.464102</td>\n",
              "      <td>6</td>\n",
              "      <td>4</td>\n",
              "      <td>2</td>\n",
              "      <td>2</td>\n",
              "      <td>5</td>\n",
              "      <td>4</td>\n",
              "      <td>2</td>\n",
              "      <td>2</td>\n",
              "      <td>Male</td>\n",
              "      <td>Human Resources</td>\n",
              "      <td>Divorced</td>\n",
              "      <td>Human Resources</td>\n",
              "      <td>Manager</td>\n",
              "      <td>Travel_Rarely</td>\n",
              "      <td>No</td>\n",
              "      <td>No</td>\n",
              "      <td>3</td>\n",
              "    </tr>\n",
              "    <tr>\n",
              "      <th>E1001010</th>\n",
              "      <td>60</td>\n",
              "      <td>16</td>\n",
              "      <td>84</td>\n",
              "      <td>8</td>\n",
              "      <td>14</td>\n",
              "      <td>10</td>\n",
              "      <td>1</td>\n",
              "      <td>2</td>\n",
              "      <td>2</td>\n",
              "      <td>1.414214</td>\n",
              "      <td>2</td>\n",
              "      <td>4</td>\n",
              "      <td>1</td>\n",
              "      <td>3</td>\n",
              "      <td>2</td>\n",
              "      <td>1</td>\n",
              "      <td>4</td>\n",
              "      <td>3</td>\n",
              "      <td>Male</td>\n",
              "      <td>Marketing</td>\n",
              "      <td>Single</td>\n",
              "      <td>Sales</td>\n",
              "      <td>Sales Executive</td>\n",
              "      <td>Travel_Rarely</td>\n",
              "      <td>No</td>\n",
              "      <td>No</td>\n",
              "      <td>3</td>\n",
              "    </tr>\n",
              "    <tr>\n",
              "      <th>...</th>\n",
              "      <td>...</td>\n",
              "      <td>...</td>\n",
              "      <td>...</td>\n",
              "      <td>...</td>\n",
              "      <td>...</td>\n",
              "      <td>...</td>\n",
              "      <td>...</td>\n",
              "      <td>...</td>\n",
              "      <td>...</td>\n",
              "      <td>...</td>\n",
              "      <td>...</td>\n",
              "      <td>...</td>\n",
              "      <td>...</td>\n",
              "      <td>...</td>\n",
              "      <td>...</td>\n",
              "      <td>...</td>\n",
              "      <td>...</td>\n",
              "      <td>...</td>\n",
              "      <td>...</td>\n",
              "      <td>...</td>\n",
              "      <td>...</td>\n",
              "      <td>...</td>\n",
              "      <td>...</td>\n",
              "      <td>...</td>\n",
              "      <td>...</td>\n",
              "      <td>...</td>\n",
              "      <td>...</td>\n",
              "    </tr>\n",
              "    <tr>\n",
              "      <th>E100992</th>\n",
              "      <td>27</td>\n",
              "      <td>3</td>\n",
              "      <td>71</td>\n",
              "      <td>1</td>\n",
              "      <td>20</td>\n",
              "      <td>6</td>\n",
              "      <td>3</td>\n",
              "      <td>6</td>\n",
              "      <td>5</td>\n",
              "      <td>0.000000</td>\n",
              "      <td>4</td>\n",
              "      <td>1</td>\n",
              "      <td>4</td>\n",
              "      <td>4</td>\n",
              "      <td>2</td>\n",
              "      <td>4</td>\n",
              "      <td>2</td>\n",
              "      <td>3</td>\n",
              "      <td>Female</td>\n",
              "      <td>Medical</td>\n",
              "      <td>Divorced</td>\n",
              "      <td>Sales</td>\n",
              "      <td>Sales Executive</td>\n",
              "      <td>Travel_Frequently</td>\n",
              "      <td>Yes</td>\n",
              "      <td>No</td>\n",
              "      <td>4</td>\n",
              "    </tr>\n",
              "    <tr>\n",
              "      <th>E100993</th>\n",
              "      <td>37</td>\n",
              "      <td>10</td>\n",
              "      <td>80</td>\n",
              "      <td>3</td>\n",
              "      <td>17</td>\n",
              "      <td>4</td>\n",
              "      <td>2</td>\n",
              "      <td>1</td>\n",
              "      <td>0</td>\n",
              "      <td>0.000000</td>\n",
              "      <td>0</td>\n",
              "      <td>2</td>\n",
              "      <td>4</td>\n",
              "      <td>4</td>\n",
              "      <td>1</td>\n",
              "      <td>4</td>\n",
              "      <td>1</td>\n",
              "      <td>3</td>\n",
              "      <td>Male</td>\n",
              "      <td>Life Sciences</td>\n",
              "      <td>Single</td>\n",
              "      <td>Development</td>\n",
              "      <td>Senior Developer</td>\n",
              "      <td>Travel_Rarely</td>\n",
              "      <td>No</td>\n",
              "      <td>No</td>\n",
              "      <td>3</td>\n",
              "    </tr>\n",
              "    <tr>\n",
              "      <th>E100994</th>\n",
              "      <td>50</td>\n",
              "      <td>28</td>\n",
              "      <td>74</td>\n",
              "      <td>1</td>\n",
              "      <td>11</td>\n",
              "      <td>20</td>\n",
              "      <td>3</td>\n",
              "      <td>20</td>\n",
              "      <td>8</td>\n",
              "      <td>1.732051</td>\n",
              "      <td>8</td>\n",
              "      <td>1</td>\n",
              "      <td>4</td>\n",
              "      <td>4</td>\n",
              "      <td>1</td>\n",
              "      <td>3</td>\n",
              "      <td>3</td>\n",
              "      <td>3</td>\n",
              "      <td>Male</td>\n",
              "      <td>Medical</td>\n",
              "      <td>Married</td>\n",
              "      <td>Development</td>\n",
              "      <td>Senior Developer</td>\n",
              "      <td>Travel_Rarely</td>\n",
              "      <td>Yes</td>\n",
              "      <td>No</td>\n",
              "      <td>3</td>\n",
              "    </tr>\n",
              "    <tr>\n",
              "      <th>E100995</th>\n",
              "      <td>34</td>\n",
              "      <td>9</td>\n",
              "      <td>46</td>\n",
              "      <td>1</td>\n",
              "      <td>14</td>\n",
              "      <td>9</td>\n",
              "      <td>3</td>\n",
              "      <td>8</td>\n",
              "      <td>7</td>\n",
              "      <td>2.645751</td>\n",
              "      <td>7</td>\n",
              "      <td>3</td>\n",
              "      <td>4</td>\n",
              "      <td>2</td>\n",
              "      <td>3</td>\n",
              "      <td>2</td>\n",
              "      <td>2</td>\n",
              "      <td>4</td>\n",
              "      <td>Female</td>\n",
              "      <td>Medical</td>\n",
              "      <td>Single</td>\n",
              "      <td>Data Science</td>\n",
              "      <td>Data Scientist</td>\n",
              "      <td>Travel_Rarely</td>\n",
              "      <td>No</td>\n",
              "      <td>No</td>\n",
              "      <td>3</td>\n",
              "    </tr>\n",
              "    <tr>\n",
              "      <th>E100998</th>\n",
              "      <td>24</td>\n",
              "      <td>3</td>\n",
              "      <td>65</td>\n",
              "      <td>9</td>\n",
              "      <td>14</td>\n",
              "      <td>4</td>\n",
              "      <td>3</td>\n",
              "      <td>2</td>\n",
              "      <td>2</td>\n",
              "      <td>1.414214</td>\n",
              "      <td>0</td>\n",
              "      <td>2</td>\n",
              "      <td>1</td>\n",
              "      <td>3</td>\n",
              "      <td>2</td>\n",
              "      <td>3</td>\n",
              "      <td>1</td>\n",
              "      <td>3</td>\n",
              "      <td>Female</td>\n",
              "      <td>Life Sciences</td>\n",
              "      <td>Single</td>\n",
              "      <td>Sales</td>\n",
              "      <td>Sales Executive</td>\n",
              "      <td>Travel_Rarely</td>\n",
              "      <td>No</td>\n",
              "      <td>Yes</td>\n",
              "      <td>2</td>\n",
              "    </tr>\n",
              "  </tbody>\n",
              "</table>\n",
              "<p>1200 rows × 27 columns</p>\n",
              "</div>"
            ],
            "text/plain": [
              "           Age  DistanceFromHome  ...  Attrition  PerformanceRating\n",
              "EmpNumber                         ...                              \n",
              "E1001000    32                10  ...         No                  3\n",
              "E1001006    47                14  ...         No                  3\n",
              "E1001007    40                 5  ...         No                  4\n",
              "E1001009    41                10  ...         No                  3\n",
              "E1001010    60                16  ...         No                  3\n",
              "...        ...               ...  ...        ...                ...\n",
              "E100992     27                 3  ...         No                  4\n",
              "E100993     37                10  ...         No                  3\n",
              "E100994     50                28  ...         No                  3\n",
              "E100995     34                 9  ...         No                  3\n",
              "E100998     24                 3  ...        Yes                  2\n",
              "\n",
              "[1200 rows x 27 columns]"
            ]
          },
          "metadata": {
            "tags": []
          },
          "execution_count": 23
        }
      ]
    },
    {
      "cell_type": "markdown",
      "metadata": {
        "id": "0ENOnTKFfXOx"
      },
      "source": [
        "# Checking Outliers"
      ]
    },
    {
      "cell_type": "code",
      "metadata": {
        "colab": {
          "base_uri": "https://localhost:8080/",
          "height": 1000
        },
        "id": "cluC6FxAfXOy",
        "outputId": "9728a942-4e2c-4d09-a709-f8c04f173f6d"
      },
      "source": [
        "sns.set(rc={\"font.size\":15,\"axes.titlesize\":20,\"axes.labelsize\":15,\"xtick.labelsize\":13,\"ytick.labelsize\":13,\n",
        "            \"legend.fontsize\":12})\n",
        "plt.figure(figsize=(15,15))\n",
        "\n",
        "txt = \"Checking Outlier in ordinal data\"\n",
        "x = txt.center(131)\n",
        "print(f\"\\033[1m\\n{x}\\n\")\n",
        "\n",
        "for index,cols in enumerate(num_data):\n",
        "    plt.subplot(6,2,index+1)\n",
        "    sns.boxplot(num_data.loc[:,cols])\n",
        "plt.tight_layout(pad=2)"
      ],
      "execution_count": null,
      "outputs": [
        {
          "output_type": "stream",
          "text": [
            "\u001b[1m\n",
            "                                                  Checking Outlier in ordinal data                                                 \n",
            "\n"
          ],
          "name": "stdout"
        },
        {
          "output_type": "display_data",
          "data": {
            "image/png": "[encoded data removed]",
            "text/plain": [
              "<Figure size 1080x1080 with 11 Axes>"
            ]
          },
          "metadata": {
            "tags": []
          }
        }
      ]
    },
    {
      "cell_type": "markdown",
      "metadata": {
        "id": "JnmEE0zYfXO0"
      },
      "source": [
        "These columns are having outliers:\n",
        "* EmpEducationLevel\n",
        "* EmpEnvironmentSatisfaction\n",
        "* EmpJobInvolvement \n",
        "* EmpJobLevel\n",
        "* EmpJobSatisfication\n",
        "* EmpRelationshipSatisfaction\n",
        "* EmpWorkLifeBalance "
      ]
    },
    {
      "cell_type": "code",
      "metadata": {
        "colab": {
          "base_uri": "https://localhost:8080/"
        },
        "id": "lFaX8hxe9LeD",
        "outputId": "73abdec4-f41b-4236-d331-31b3739cd7a9"
      },
      "source": [
        "df.columns"
      ],
      "execution_count": null,
      "outputs": [
        {
          "output_type": "execute_result",
          "data": {
            "text/plain": [
              "Index(['Age', 'Gender', 'EducationBackground', 'MaritalStatus',\n",
              "       'EmpDepartment', 'EmpJobRole', 'BusinessTravelFrequency',\n",
              "       'DistanceFromHome', 'EmpEducationLevel', 'EmpEnvironmentSatisfaction',\n",
              "       'EmpHourlyRate', 'EmpJobInvolvement', 'EmpJobLevel',\n",
              "       'EmpJobSatisfaction', 'NumCompaniesWorked', 'OverTime',\n",
              "       'EmpLastSalaryHikePercent', 'EmpRelationshipSatisfaction',\n",
              "       'TotalWorkExperienceInYears', 'TrainingTimesLastYear',\n",
              "       'EmpWorkLifeBalance', 'ExperienceYearsAtThisCompany',\n",
              "       'ExperienceYearsInCurrentRole', 'YearsSinceLastPromotion',\n",
              "       'YearsWithCurrManager', 'Attrition', 'PerformanceRating'],\n",
              "      dtype='object')"
            ]
          },
          "metadata": {
            "tags": []
          },
          "execution_count": 25
        }
      ]
    },
    {
      "cell_type": "markdown",
      "metadata": {
        "id": "5J3t-iMbfXO1"
      },
      "source": [
        "## Treatment on Outliers"
      ]
    },
    {
      "cell_type": "markdown",
      "metadata": {
        "id": "9_DKFyPLfXO2"
      },
      "source": [
        "#### EmpEducationLevel outlier"
      ]
    },
    {
      "cell_type": "code",
      "metadata": {
        "colab": {
          "base_uri": "https://localhost:8080/",
          "height": 406
        },
        "id": "9N6ODCNwfXO2",
        "outputId": "0d1ed46f-1e3f-43b9-d548-7df3e7c9f541"
      },
      "source": [
        "plt.figure(figsize=(7,5))\n",
        "sns.set_style(\"darkgrid\")\n",
        "sns.boxplot(final_df[\"EmpEducationLevel\"])\n",
        "plt.title(\"\\nOutlier Present in EmpEducationLevel\\n\",fontsize=15)\n",
        "plt.xlabel(\"\\nEmpEducationLevel\",fontsize=13)\n",
        "plt.tick_params(axis='both', which='major', labelsize=10)\n",
        "plt.show()"
      ],
      "execution_count": null,
      "outputs": [
        {
          "output_type": "display_data",
          "data": {
            "image/png": "[encoded data removed]",
            "text/plain": [
              "<Figure size 504x360 with 1 Axes>"
            ]
          },
          "metadata": {
            "tags": []
          }
        }
      ]
    },
    {
      "cell_type": "markdown",
      "metadata": {
        "id": "7F0MCncDfXO4"
      },
      "source": [
        "#### Outlier value present in EmpEducationLevel using Z-score method"
      ]
    },
    {
      "cell_type": "code",
      "metadata": {
        "colab": {
          "base_uri": "https://localhost:8080/"
        },
        "id": "Iz0PoTTifXO4",
        "outputId": "c22c5bb3-dc4f-48d6-8dea-359bda0f18fd"
      },
      "source": [
        "mean = np.mean(final_df[\"EmpEducationLevel\"]) \n",
        "std = np.std(final_df[\"EmpEducationLevel\"]) \n",
        "threshold = 3.5\n",
        "outlier = [] \n",
        "for i in final_df[\"EmpEducationLevel\"]: \n",
        "    z = (i-mean)/std \n",
        "    if z > threshold: \n",
        "        outlier.append(i) \n",
        "print('\\033[1mOutlier in EmpEducationLevel  are ', outlier) "
      ],
      "execution_count": null,
      "outputs": [
        {
          "output_type": "stream",
          "text": [
            "\u001b[1mOutlier in EmpEducationLevel  are  []\n"
          ],
          "name": "stdout"
        }
      ]
    },
    {
      "cell_type": "markdown",
      "metadata": {
        "id": "4Q4MTCHefXO5"
      },
      "source": [
        "#### EmpEnvironmentSatisfaction outlier"
      ]
    },
    {
      "cell_type": "code",
      "metadata": {
        "colab": {
          "base_uri": "https://localhost:8080/",
          "height": 392
        },
        "id": "A1ozMSfkfXO6",
        "outputId": "e7296524-3fcb-4177-b549-119d27a16d55"
      },
      "source": [
        "plt.figure(figsize=(7,5))\n",
        "sns.set_style(\"darkgrid\")\n",
        "sns.boxplot(final_df[\"EmpEnvironmentSatisfaction\"])\n",
        "plt.title(\"\\nOutlier Present in EmpEnvironmentSatisfaction\\n\",fontsize=15)\n",
        "plt.xlabel(\"\\EmpEnvironmentSatisfaction\",fontsize=13)\n",
        "plt.tick_params(axis='both', which='major', labelsize=10)\n",
        "plt.show()"
      ],
      "execution_count": null,
      "outputs": [
        {
          "output_type": "display_data",
          "data": {
            "image/png": "[encoded data removed]",
            "text/plain": [
              "<Figure size 504x360 with 1 Axes>"
            ]
          },
          "metadata": {
            "tags": []
          }
        }
      ]
    },
    {
      "cell_type": "markdown",
      "metadata": {
        "id": "NSVXcfD0fXO7"
      },
      "source": [
        "#### Outlier value present in EmpEnvironmentSatisfaction using Z-score method"
      ]
    },
    {
      "cell_type": "code",
      "metadata": {
        "colab": {
          "base_uri": "https://localhost:8080/"
        },
        "id": "hemL04affXO8",
        "outputId": "2e18a0b0-2313-4802-9fcd-48bcec67806e"
      },
      "source": [
        "mean = np.mean(final_df[\"EmpEnvironmentSatisfaction\"]) \n",
        "std = np.std(final_df[\"EmpEnvironmentSatisfaction\"]) \n",
        "threshold = 3.5\n",
        "outlier = [] \n",
        "for i in final_df[\"EmpEnvironmentSatisfaction\"]: \n",
        "    z = (i-mean)/std \n",
        "    if z > threshold: \n",
        "        outlier.append(i) \n",
        "print('outlier in dataset is', outlier)"
      ],
      "execution_count": null,
      "outputs": [
        {
          "output_type": "stream",
          "text": [
            "outlier in dataset is []\n"
          ],
          "name": "stdout"
        }
      ]
    },
    {
      "cell_type": "markdown",
      "metadata": {
        "id": "ZIcmEIbUfXO_"
      },
      "source": [
        "#### Replace the outlier with proper value"
      ]
    },
    {
      "cell_type": "code",
      "metadata": {
        "id": "smzv6wmtfXO_"
      },
      "source": [
        "final_df[\"EmpEnvironmentSatisfaction\"] = final_df[\"EmpEnvironmentSatisfaction\"].replace([40],36)"
      ],
      "execution_count": null,
      "outputs": []
    },
    {
      "cell_type": "markdown",
      "metadata": {
        "id": "UUMpwvAGfXPA"
      },
      "source": [
        "#### After replacing the outlier with proper value in EmpEnvironmentSatisfaction"
      ]
    },
    {
      "cell_type": "code",
      "metadata": {
        "colab": {
          "base_uri": "https://localhost:8080/",
          "height": 406
        },
        "id": "RLdLJnNgfXPB",
        "outputId": "7a571b4e-0c16-4e6f-af65-9cf4e0e685b9"
      },
      "source": [
        "plt.figure(figsize=(7,5))\n",
        "sns.set_style(\"darkgrid\")\n",
        "sns.boxplot(final_df[\"EmpEnvironmentSatisfaction\"])\n",
        "plt.title(\"\\nOutlier Present in EmpEnvironmentSatisfaction\\n\",fontsize=15)\n",
        "plt.xlabel(\"\\nEmpEnvironmentSatisfaction\",fontsize=13)\n",
        "plt.tick_params(axis='both', which='major', labelsize=10)\n",
        "plt.show()"
      ],
      "execution_count": null,
      "outputs": [
        {
          "output_type": "display_data",
          "data": {
            "image/png": "[encoded data removed]",
            "text/plain": [
              "<Figure size 504x360 with 1 Axes>"
            ]
          },
          "metadata": {
            "tags": []
          }
        }
      ]
    },
    {
      "cell_type": "markdown",
      "metadata": {
        "id": "nSjYGg80fXPD"
      },
      "source": [
        "#### EmpEducationLevel outlier\n",
        "#### Outlier value present in EmpEducationLevel using Z-score method"
      ]
    },
    {
      "cell_type": "code",
      "metadata": {
        "colab": {
          "base_uri": "https://localhost:8080/"
        },
        "id": "RUQblFO5fXPE",
        "outputId": "eb939cbe-ddba-44e8-a447-290fb17ea045"
      },
      "source": [
        "mean = np.mean(final_df[\"EmpEducationLevel\"]) \n",
        "std = np.std(final_df[\"EmpEducationLevel\"]) \n",
        "threshold = 3.5\n",
        "outlier = [] \n",
        "for i in final_df[\"EmpEducationLevel\"]: \n",
        "    z = (i-mean)/std \n",
        "    if z > threshold: \n",
        "        outlier.append(i) \n",
        "print('outlier in dataset is', outlier) "
      ],
      "execution_count": null,
      "outputs": [
        {
          "output_type": "stream",
          "text": [
            "outlier in dataset is []\n"
          ],
          "name": "stdout"
        }
      ]
    },
    {
      "cell_type": "markdown",
      "metadata": {
        "id": "kuvhVPXnfXPF"
      },
      "source": [
        "#### EmpWorkLifeBalance outlier"
      ]
    },
    {
      "cell_type": "code",
      "metadata": {
        "colab": {
          "base_uri": "https://localhost:8080/",
          "height": 406
        },
        "id": "OvuQe6CLfXPG",
        "outputId": "6a91faac-130e-4590-c430-7eabe13e9800"
      },
      "source": [
        "plt.figure(figsize=(7,5))\n",
        "sns.set_style(\"darkgrid\")\n",
        "sns.boxplot(final_df[\"EmpWorkLifeBalance\"])\n",
        "plt.title(\"\\nOutlier Present in EmpWorkLifeBalance\\n\",fontsize=15)\n",
        "plt.xlabel(\"\\nEmpWorkLifeBalance\",fontsize=13)\n",
        "plt.tick_params(axis='both', which='major', labelsize=10)\n",
        "plt.show()"
      ],
      "execution_count": null,
      "outputs": [
        {
          "output_type": "display_data",
          "data": {
            "image/png": "[encoded data removed]",
            "text/plain": [
              "<Figure size 504x360 with 1 Axes>"
            ]
          },
          "metadata": {
            "tags": []
          }
        }
      ]
    },
    {
      "cell_type": "markdown",
      "metadata": {
        "id": "PC3jyJP5fXPH"
      },
      "source": [
        "#### Outlier value present in EmpWorkLifeBalance using Z-score method"
      ]
    },
    {
      "cell_type": "code",
      "metadata": {
        "colab": {
          "base_uri": "https://localhost:8080/"
        },
        "id": "STP8dTyUfXPI",
        "outputId": "e7fc6daa-b583-4fcd-a513-77a7a307ddb5"
      },
      "source": [
        "mean = np.mean(final_df[\"EmpWorkLifeBalance\"]) \n",
        "std = np.std(final_df[\"EmpWorkLifeBalance\"]) \n",
        "threshold = 3.5\n",
        "outlier = [] \n",
        "for i in final_df[\"EmpWorkLifeBalance\"]: \n",
        "    z = (i-mean)/std \n",
        "    if z > threshold: \n",
        "        outlier.append(i) \n",
        "print('outlier in dataset is', outlier) "
      ],
      "execution_count": null,
      "outputs": [
        {
          "output_type": "stream",
          "text": [
            "outlier in dataset is []\n"
          ],
          "name": "stdout"
        }
      ]
    },
    {
      "cell_type": "markdown",
      "metadata": {
        "id": "-asp4HdRfXPI"
      },
      "source": [
        "#### Replace the outlier with proper value"
      ]
    },
    {
      "cell_type": "code",
      "metadata": {
        "id": "7v23AleJfXPJ"
      },
      "source": [
        "final_df[\"EmpWorkLifeBalance\"] = final_df[\"EmpWorkLifeBalance\"].replace([34, 31, 32, 33, 29, 33, 32, 33, 36, 30, 37, 40, 33, 33, 36, 29, 31, 32],27)"
      ],
      "execution_count": null,
      "outputs": []
    },
    {
      "cell_type": "markdown",
      "metadata": {
        "id": "8yX21VAbfXPK"
      },
      "source": [
        "#### After replacing the outlier with proper value in EmpWorkLifeBalance"
      ]
    },
    {
      "cell_type": "code",
      "metadata": {
        "colab": {
          "base_uri": "https://localhost:8080/",
          "height": 406
        },
        "id": "8IU41XqSfXPK",
        "outputId": "c4697b77-b4aa-4ea7-9f22-6c8f4f61366e"
      },
      "source": [
        "plt.figure(figsize=(7,5))\n",
        "sns.set_style(\"darkgrid\")\n",
        "sns.boxplot(final_df[\"EmpWorkLifeBalance\"])\n",
        "plt.title(\"\\nOutlier Present in EmpWorkLifeBalance\\n\",fontsize=15)\n",
        "plt.xlabel(\"\\nEmpWorkLifeBalance\",fontsize=13)\n",
        "plt.tick_params(axis='both', which='major', labelsize=10)\n",
        "plt.show()"
      ],
      "execution_count": null,
      "outputs": [
        {
          "output_type": "display_data",
          "data": {
            "image/png": "[encoded data removed]",
            "text/plain": [
              "<Figure size 504x360 with 1 Axes>"
            ]
          },
          "metadata": {
            "tags": []
          }
        }
      ]
    },
    {
      "cell_type": "markdown",
      "metadata": {
        "id": "AFZA0VzQfXPL"
      },
      "source": [
        "#### EmpEnvironmentSatisfaction outlier"
      ]
    },
    {
      "cell_type": "code",
      "metadata": {
        "colab": {
          "base_uri": "https://localhost:8080/",
          "height": 406
        },
        "id": "rzlqgj9vfXPL",
        "outputId": "7ed308e3-b71f-47fc-f64b-82b68b898408"
      },
      "source": [
        "plt.figure(figsize=(7,5))\n",
        "sns.set_style(\"darkgrid\")\n",
        "sns.boxplot(final_df[\"EmpEnvironmentSatisfaction\"])\n",
        "plt.title(\"\\nOutlier Present in EmpEnvironmentSatisfaction\\n\",fontsize=15)\n",
        "plt.xlabel(\"\\nEmpEnvironmentSatisfaction\",fontsize=13)\n",
        "plt.tick_params(axis='both', which='major', labelsize=10)\n",
        "plt.show()"
      ],
      "execution_count": null,
      "outputs": [
        {
          "output_type": "display_data",
          "data": {
            "image/png": "[encoded data removed]",
            "text/plain": [
              "<Figure size 504x360 with 1 Axes>"
            ]
          },
          "metadata": {
            "tags": []
          }
        }
      ]
    },
    {
      "cell_type": "markdown",
      "metadata": {
        "id": "SZSCX5n0fXPM"
      },
      "source": [
        "#### Outlier value present in ExperienceYearsInCurrentRole using Z-score method"
      ]
    },
    {
      "cell_type": "code",
      "metadata": {
        "colab": {
          "base_uri": "https://localhost:8080/"
        },
        "id": "ZRx8CGwufXPN",
        "outputId": "f1f65ad8-586a-4779-c408-76e9b4cf9d16"
      },
      "source": [
        "mean = np.mean(final_df[\"EmpEnvironmentSatisfaction\"]) \n",
        "std = np.std(final_df[\"EmpEnvironmentSatisfaction\"]) \n",
        "threshold = 3.5\n",
        "outlier = [] \n",
        "for i in final_df[\"EmpEnvironmentSatisfaction\"]: \n",
        "    z = (i-mean)/std \n",
        "    if z > threshold: \n",
        "        outlier.append(i) \n",
        "print('outlier in dataset is', outlier) "
      ],
      "execution_count": null,
      "outputs": [
        {
          "output_type": "stream",
          "text": [
            "outlier in dataset is []\n"
          ],
          "name": "stdout"
        }
      ]
    },
    {
      "cell_type": "markdown",
      "metadata": {
        "id": "6vg7hc67fXPO"
      },
      "source": [
        "#### Replace the outlier with proper value"
      ]
    },
    {
      "cell_type": "code",
      "metadata": {
        "id": "cx8rVBOofXPP"
      },
      "source": [
        "final_df[\"EmpEnvironmentSatisfaction\"] = final_df[\"EmpEnvironmentSatisfaction\"].replace([17, 17, 18, 18, 17],15)"
      ],
      "execution_count": null,
      "outputs": []
    },
    {
      "cell_type": "markdown",
      "metadata": {
        "id": "WZnlloFLfXPQ"
      },
      "source": [
        "#### After replacing the outlier with proper EmpEnvironmentSatisfaction"
      ]
    },
    {
      "cell_type": "code",
      "metadata": {
        "colab": {
          "base_uri": "https://localhost:8080/",
          "height": 406
        },
        "id": "CtZ1l5-IfXPQ",
        "outputId": "709019b7-2f78-46d4-b122-0d3d6f4a7392"
      },
      "source": [
        "plt.figure(figsize=(7,5))\n",
        "sns.set_style(\"darkgrid\")\n",
        "sns.boxplot(final_df[\"EmpEnvironmentSatisfaction\"])\n",
        "plt.title(\"\\nOutlier Present in EmpEnvironmentSatisfaction\\n\",fontsize=15)\n",
        "plt.xlabel(\"\\nEmpEnvironmentSatisfaction\",fontsize=13)\n",
        "plt.tick_params(axis='both', which='major', labelsize=10)\n",
        "plt.show()"
      ],
      "execution_count": null,
      "outputs": [
        {
          "output_type": "display_data",
          "data": {
            "image/png": "[encoded data removed]",
            "text/plain": [
              "<Figure size 504x360 with 1 Axes>"
            ]
          },
          "metadata": {
            "tags": []
          }
        }
      ]
    },
    {
      "cell_type": "markdown",
      "metadata": {
        "id": "FhwCsRB2fXPS"
      },
      "source": [
        "#### EmpWorkLifeBalance outlier"
      ]
    },
    {
      "cell_type": "code",
      "metadata": {
        "colab": {
          "base_uri": "https://localhost:8080/",
          "height": 406
        },
        "id": "-Fi7coG9fXPS",
        "outputId": "f4eafcbd-9be7-4380-8b21-7ebbabb60da5"
      },
      "source": [
        "plt.figure(figsize=(7,5))\n",
        "sns.set_style(\"darkgrid\")\n",
        "sns.boxplot(final_df[\"EmpWorkLifeBalance\"])\n",
        "plt.title(\"\\nOutlier Present in EmpWorkLifeBalance\\n\",fontsize=15)\n",
        "plt.xlabel(\"\\nEmpWorkLifeBalance\",fontsize=13)\n",
        "plt.tick_params(axis='both', which='major', labelsize=10)\n",
        "plt.show()"
      ],
      "execution_count": null,
      "outputs": [
        {
          "output_type": "display_data",
          "data": {
            "image/png": "[encoded data removed]",
            "text/plain": [
              "<Figure size 504x360 with 1 Axes>"
            ]
          },
          "metadata": {
            "tags": []
          }
        }
      ]
    },
    {
      "cell_type": "markdown",
      "metadata": {
        "id": "5x9ai3o8fXPT"
      },
      "source": [
        "#### Outlier value present in EmpWorkLifeBalance using Z-score method"
      ]
    },
    {
      "cell_type": "code",
      "metadata": {
        "colab": {
          "base_uri": "https://localhost:8080/"
        },
        "id": "QZfP3XsdfXPU",
        "outputId": "5ac96a97-b25a-4236-cb42-92d6fe8cb3d9"
      },
      "source": [
        "mean = np.mean(final_df[\"EmpWorkLifeBalance\"]) \n",
        "std = np.std(final_df[\"EmpWorkLifeBalance\"]) \n",
        "threshold = 3.5\n",
        "outlier = [] \n",
        "for i in final_df[\"EmpWorkLifeBalance\"]: \n",
        "    z = (i-mean)/std \n",
        "    if z > threshold: \n",
        "        outlier.append(i) \n",
        "print('outlier in dataset is', outlier) "
      ],
      "execution_count": null,
      "outputs": [
        {
          "output_type": "stream",
          "text": [
            "outlier in dataset is []\n"
          ],
          "name": "stdout"
        }
      ]
    },
    {
      "cell_type": "markdown",
      "metadata": {
        "id": "7Ufx46PifXPU"
      },
      "source": [
        "#### Replace the outlier with proper values"
      ]
    },
    {
      "cell_type": "code",
      "metadata": {
        "id": "GOB4R0E8fXPV"
      },
      "source": [
        "final_df[\"EmpWorkLifeBalance\"] = final_df[\"EmpWorkLifeBalance\"].replace([17, 17, 17, 17, 17, 17],15)"
      ],
      "execution_count": null,
      "outputs": []
    },
    {
      "cell_type": "markdown",
      "metadata": {
        "id": "jKlYy-5SfXPW"
      },
      "source": [
        "#### After replacing the outlier with proper EmpWorkLifeBalance"
      ]
    },
    {
      "cell_type": "code",
      "metadata": {
        "colab": {
          "base_uri": "https://localhost:8080/",
          "height": 406
        },
        "id": "niVFmOLe9Leh",
        "outputId": "69b2b4d9-c75c-4db5-d9a5-1d2cfc194308"
      },
      "source": [
        "plt.figure(figsize=(7,5))\n",
        "sns.set_style(\"darkgrid\")\n",
        "sns.boxplot(final_df[\"EmpWorkLifeBalance\"])\n",
        "plt.title(\"\\nOutlier Present in EmpWorkLifeBalance\\n\",fontsize=15)\n",
        "plt.xlabel(\"\\nEmpWorkLifeBalance\",fontsize=13)\n",
        "plt.tick_params(axis='both', which='major', labelsize=10)\n",
        "plt.show()"
      ],
      "execution_count": null,
      "outputs": [
        {
          "output_type": "display_data",
          "data": {
            "image/png": "[encoded data removed]",
            "text/plain": [
              "<Figure size 504x360 with 1 Axes>"
            ]
          },
          "metadata": {
            "tags": []
          }
        }
      ]
    },
    {
      "cell_type": "code",
      "metadata": {
        "colab": {
          "base_uri": "https://localhost:8080/"
        },
        "id": "C4F_B5T9fXPY",
        "outputId": "849e89b5-d44a-426c-b434-b0df001e61b1"
      },
      "source": [
        "ord_data.columns"
      ],
      "execution_count": null,
      "outputs": [
        {
          "output_type": "execute_result",
          "data": {
            "text/plain": [
              "Index(['EmpEducationLevel', 'EmpEnvironmentSatisfaction', 'EmpJobInvolvement',\n",
              "       'EmpJobLevel', 'EmpJobSatisfaction', 'EmpRelationshipSatisfaction',\n",
              "       'EmpWorkLifeBalance'],\n",
              "      dtype='object')"
            ]
          },
          "metadata": {
            "tags": []
          },
          "execution_count": 45
        }
      ]
    },
    {
      "cell_type": "markdown",
      "metadata": {
        "id": "Z9MnHxQufXPY"
      },
      "source": [
        "## Label Encoding\n",
        "#### As object type data is not understand for the Ml Algorithm, so we have to encode object type data"
      ]
    },
    {
      "cell_type": "code",
      "metadata": {
        "id": "VscTUz7C9Lej"
      },
      "source": [
        "# Converting Labeled data to Numerical data using label Encoder\n",
        "from sklearn.preprocessing import LabelEncoder\n",
        "label = LabelEncoder()\n",
        "final_df[['Gender', 'EducationBackground', 'MaritalStatus', 'EmpDepartment',\n",
        "       'EmpJobRole', 'BusinessTravelFrequency', 'OverTime', 'Attrition']] = final_df[['Gender', 'EducationBackground', \n",
        "        'MaritalStatus', 'EmpDepartment','EmpJobRole', 'BusinessTravelFrequency', 'OverTime', 'Attrition']].apply(label.fit_transform)"
      ],
      "execution_count": null,
      "outputs": []
    },
    {
      "cell_type": "markdown",
      "metadata": {
        "id": "XiF3pMlifXPa"
      },
      "source": [
        "### After Encoding dataset:"
      ]
    },
    {
      "cell_type": "code",
      "metadata": {
        "colab": {
          "base_uri": "https://localhost:8080/",
          "height": 466
        },
        "id": "tWo3_48XfXPa",
        "outputId": "2202336a-6543-4ff4-9d1f-c7c6b1093173"
      },
      "source": [
        "final_df"
      ],
      "execution_count": null,
      "outputs": [
        {
          "output_type": "execute_result",
          "data": {
            "text/html": [
              "<div>\n",
              "<style scoped>\n",
              "    .dataframe tbody tr th:only-of-type {\n",
              "        vertical-align: middle;\n",
              "    }\n",
              "\n",
              "    .dataframe tbody tr th {\n",
              "        vertical-align: top;\n",
              "    }\n",
              "\n",
              "    .dataframe thead th {\n",
              "        text-align: right;\n",
              "    }\n",
              "</style>\n",
              "<table border=\"1\" class=\"dataframe\">\n",
              "  <thead>\n",
              "    <tr style=\"text-align: right;\">\n",
              "      <th></th>\n",
              "      <th>Age</th>\n",
              "      <th>DistanceFromHome</th>\n",
              "      <th>EmpHourlyRate</th>\n",
              "      <th>NumCompaniesWorked</th>\n",
              "      <th>EmpLastSalaryHikePercent</th>\n",
              "      <th>TotalWorkExperienceInYears</th>\n",
              "      <th>TrainingTimesLastYear</th>\n",
              "      <th>ExperienceYearsAtThisCompany</th>\n",
              "      <th>ExperienceYearsInCurrentRole</th>\n",
              "      <th>YearsSinceLastPromotion</th>\n",
              "      <th>YearsWithCurrManager</th>\n",
              "      <th>EmpEducationLevel</th>\n",
              "      <th>EmpEnvironmentSatisfaction</th>\n",
              "      <th>EmpJobInvolvement</th>\n",
              "      <th>EmpJobLevel</th>\n",
              "      <th>EmpJobSatisfaction</th>\n",
              "      <th>EmpRelationshipSatisfaction</th>\n",
              "      <th>EmpWorkLifeBalance</th>\n",
              "      <th>Gender</th>\n",
              "      <th>EducationBackground</th>\n",
              "      <th>MaritalStatus</th>\n",
              "      <th>EmpDepartment</th>\n",
              "      <th>EmpJobRole</th>\n",
              "      <th>BusinessTravelFrequency</th>\n",
              "      <th>OverTime</th>\n",
              "      <th>Attrition</th>\n",
              "      <th>PerformanceRating</th>\n",
              "    </tr>\n",
              "    <tr>\n",
              "      <th>EmpNumber</th>\n",
              "      <th></th>\n",
              "      <th></th>\n",
              "      <th></th>\n",
              "      <th></th>\n",
              "      <th></th>\n",
              "      <th></th>\n",
              "      <th></th>\n",
              "      <th></th>\n",
              "      <th></th>\n",
              "      <th></th>\n",
              "      <th></th>\n",
              "      <th></th>\n",
              "      <th></th>\n",
              "      <th></th>\n",
              "      <th></th>\n",
              "      <th></th>\n",
              "      <th></th>\n",
              "      <th></th>\n",
              "      <th></th>\n",
              "      <th></th>\n",
              "      <th></th>\n",
              "      <th></th>\n",
              "      <th></th>\n",
              "      <th></th>\n",
              "      <th></th>\n",
              "      <th></th>\n",
              "      <th></th>\n",
              "    </tr>\n",
              "  </thead>\n",
              "  <tbody>\n",
              "    <tr>\n",
              "      <th>E1001000</th>\n",
              "      <td>32</td>\n",
              "      <td>10</td>\n",
              "      <td>55</td>\n",
              "      <td>1</td>\n",
              "      <td>12</td>\n",
              "      <td>10</td>\n",
              "      <td>2</td>\n",
              "      <td>10</td>\n",
              "      <td>7</td>\n",
              "      <td>0.000000</td>\n",
              "      <td>8</td>\n",
              "      <td>3</td>\n",
              "      <td>4</td>\n",
              "      <td>3</td>\n",
              "      <td>2</td>\n",
              "      <td>4</td>\n",
              "      <td>4</td>\n",
              "      <td>2</td>\n",
              "      <td>1</td>\n",
              "      <td>2</td>\n",
              "      <td>2</td>\n",
              "      <td>5</td>\n",
              "      <td>13</td>\n",
              "      <td>2</td>\n",
              "      <td>0</td>\n",
              "      <td>0</td>\n",
              "      <td>3</td>\n",
              "    </tr>\n",
              "    <tr>\n",
              "      <th>E1001006</th>\n",
              "      <td>47</td>\n",
              "      <td>14</td>\n",
              "      <td>42</td>\n",
              "      <td>2</td>\n",
              "      <td>12</td>\n",
              "      <td>20</td>\n",
              "      <td>2</td>\n",
              "      <td>7</td>\n",
              "      <td>7</td>\n",
              "      <td>1.000000</td>\n",
              "      <td>7</td>\n",
              "      <td>4</td>\n",
              "      <td>4</td>\n",
              "      <td>3</td>\n",
              "      <td>2</td>\n",
              "      <td>1</td>\n",
              "      <td>4</td>\n",
              "      <td>3</td>\n",
              "      <td>1</td>\n",
              "      <td>2</td>\n",
              "      <td>2</td>\n",
              "      <td>5</td>\n",
              "      <td>13</td>\n",
              "      <td>2</td>\n",
              "      <td>0</td>\n",
              "      <td>0</td>\n",
              "      <td>3</td>\n",
              "    </tr>\n",
              "    <tr>\n",
              "      <th>E1001007</th>\n",
              "      <td>40</td>\n",
              "      <td>5</td>\n",
              "      <td>48</td>\n",
              "      <td>5</td>\n",
              "      <td>21</td>\n",
              "      <td>20</td>\n",
              "      <td>2</td>\n",
              "      <td>18</td>\n",
              "      <td>13</td>\n",
              "      <td>1.000000</td>\n",
              "      <td>12</td>\n",
              "      <td>4</td>\n",
              "      <td>4</td>\n",
              "      <td>2</td>\n",
              "      <td>3</td>\n",
              "      <td>1</td>\n",
              "      <td>3</td>\n",
              "      <td>3</td>\n",
              "      <td>1</td>\n",
              "      <td>1</td>\n",
              "      <td>1</td>\n",
              "      <td>5</td>\n",
              "      <td>13</td>\n",
              "      <td>1</td>\n",
              "      <td>1</td>\n",
              "      <td>0</td>\n",
              "      <td>4</td>\n",
              "    </tr>\n",
              "    <tr>\n",
              "      <th>E1001009</th>\n",
              "      <td>41</td>\n",
              "      <td>10</td>\n",
              "      <td>73</td>\n",
              "      <td>3</td>\n",
              "      <td>15</td>\n",
              "      <td>23</td>\n",
              "      <td>2</td>\n",
              "      <td>21</td>\n",
              "      <td>6</td>\n",
              "      <td>3.464102</td>\n",
              "      <td>6</td>\n",
              "      <td>4</td>\n",
              "      <td>2</td>\n",
              "      <td>2</td>\n",
              "      <td>5</td>\n",
              "      <td>4</td>\n",
              "      <td>2</td>\n",
              "      <td>2</td>\n",
              "      <td>1</td>\n",
              "      <td>0</td>\n",
              "      <td>0</td>\n",
              "      <td>3</td>\n",
              "      <td>8</td>\n",
              "      <td>2</td>\n",
              "      <td>0</td>\n",
              "      <td>0</td>\n",
              "      <td>3</td>\n",
              "    </tr>\n",
              "    <tr>\n",
              "      <th>E1001010</th>\n",
              "      <td>60</td>\n",
              "      <td>16</td>\n",
              "      <td>84</td>\n",
              "      <td>8</td>\n",
              "      <td>14</td>\n",
              "      <td>10</td>\n",
              "      <td>1</td>\n",
              "      <td>2</td>\n",
              "      <td>2</td>\n",
              "      <td>1.414214</td>\n",
              "      <td>2</td>\n",
              "      <td>4</td>\n",
              "      <td>1</td>\n",
              "      <td>3</td>\n",
              "      <td>2</td>\n",
              "      <td>1</td>\n",
              "      <td>4</td>\n",
              "      <td>3</td>\n",
              "      <td>1</td>\n",
              "      <td>2</td>\n",
              "      <td>2</td>\n",
              "      <td>5</td>\n",
              "      <td>13</td>\n",
              "      <td>2</td>\n",
              "      <td>0</td>\n",
              "      <td>0</td>\n",
              "      <td>3</td>\n",
              "    </tr>\n",
              "    <tr>\n",
              "      <th>...</th>\n",
              "      <td>...</td>\n",
              "      <td>...</td>\n",
              "      <td>...</td>\n",
              "      <td>...</td>\n",
              "      <td>...</td>\n",
              "      <td>...</td>\n",
              "      <td>...</td>\n",
              "      <td>...</td>\n",
              "      <td>...</td>\n",
              "      <td>...</td>\n",
              "      <td>...</td>\n",
              "      <td>...</td>\n",
              "      <td>...</td>\n",
              "      <td>...</td>\n",
              "      <td>...</td>\n",
              "      <td>...</td>\n",
              "      <td>...</td>\n",
              "      <td>...</td>\n",
              "      <td>...</td>\n",
              "      <td>...</td>\n",
              "      <td>...</td>\n",
              "      <td>...</td>\n",
              "      <td>...</td>\n",
              "      <td>...</td>\n",
              "      <td>...</td>\n",
              "      <td>...</td>\n",
              "      <td>...</td>\n",
              "    </tr>\n",
              "    <tr>\n",
              "      <th>E100992</th>\n",
              "      <td>27</td>\n",
              "      <td>3</td>\n",
              "      <td>71</td>\n",
              "      <td>1</td>\n",
              "      <td>20</td>\n",
              "      <td>6</td>\n",
              "      <td>3</td>\n",
              "      <td>6</td>\n",
              "      <td>5</td>\n",
              "      <td>0.000000</td>\n",
              "      <td>4</td>\n",
              "      <td>1</td>\n",
              "      <td>4</td>\n",
              "      <td>4</td>\n",
              "      <td>2</td>\n",
              "      <td>4</td>\n",
              "      <td>2</td>\n",
              "      <td>3</td>\n",
              "      <td>0</td>\n",
              "      <td>3</td>\n",
              "      <td>0</td>\n",
              "      <td>5</td>\n",
              "      <td>13</td>\n",
              "      <td>1</td>\n",
              "      <td>1</td>\n",
              "      <td>0</td>\n",
              "      <td>4</td>\n",
              "    </tr>\n",
              "    <tr>\n",
              "      <th>E100993</th>\n",
              "      <td>37</td>\n",
              "      <td>10</td>\n",
              "      <td>80</td>\n",
              "      <td>3</td>\n",
              "      <td>17</td>\n",
              "      <td>4</td>\n",
              "      <td>2</td>\n",
              "      <td>1</td>\n",
              "      <td>0</td>\n",
              "      <td>0.000000</td>\n",
              "      <td>0</td>\n",
              "      <td>2</td>\n",
              "      <td>4</td>\n",
              "      <td>4</td>\n",
              "      <td>1</td>\n",
              "      <td>4</td>\n",
              "      <td>1</td>\n",
              "      <td>3</td>\n",
              "      <td>1</td>\n",
              "      <td>1</td>\n",
              "      <td>2</td>\n",
              "      <td>1</td>\n",
              "      <td>15</td>\n",
              "      <td>2</td>\n",
              "      <td>0</td>\n",
              "      <td>0</td>\n",
              "      <td>3</td>\n",
              "    </tr>\n",
              "    <tr>\n",
              "      <th>E100994</th>\n",
              "      <td>50</td>\n",
              "      <td>28</td>\n",
              "      <td>74</td>\n",
              "      <td>1</td>\n",
              "      <td>11</td>\n",
              "      <td>20</td>\n",
              "      <td>3</td>\n",
              "      <td>20</td>\n",
              "      <td>8</td>\n",
              "      <td>1.732051</td>\n",
              "      <td>8</td>\n",
              "      <td>1</td>\n",
              "      <td>4</td>\n",
              "      <td>4</td>\n",
              "      <td>1</td>\n",
              "      <td>3</td>\n",
              "      <td>3</td>\n",
              "      <td>3</td>\n",
              "      <td>1</td>\n",
              "      <td>3</td>\n",
              "      <td>1</td>\n",
              "      <td>1</td>\n",
              "      <td>15</td>\n",
              "      <td>2</td>\n",
              "      <td>1</td>\n",
              "      <td>0</td>\n",
              "      <td>3</td>\n",
              "    </tr>\n",
              "    <tr>\n",
              "      <th>E100995</th>\n",
              "      <td>34</td>\n",
              "      <td>9</td>\n",
              "      <td>46</td>\n",
              "      <td>1</td>\n",
              "      <td>14</td>\n",
              "      <td>9</td>\n",
              "      <td>3</td>\n",
              "      <td>8</td>\n",
              "      <td>7</td>\n",
              "      <td>2.645751</td>\n",
              "      <td>7</td>\n",
              "      <td>3</td>\n",
              "      <td>4</td>\n",
              "      <td>2</td>\n",
              "      <td>3</td>\n",
              "      <td>2</td>\n",
              "      <td>2</td>\n",
              "      <td>4</td>\n",
              "      <td>0</td>\n",
              "      <td>3</td>\n",
              "      <td>2</td>\n",
              "      <td>0</td>\n",
              "      <td>1</td>\n",
              "      <td>2</td>\n",
              "      <td>0</td>\n",
              "      <td>0</td>\n",
              "      <td>3</td>\n",
              "    </tr>\n",
              "    <tr>\n",
              "      <th>E100998</th>\n",
              "      <td>24</td>\n",
              "      <td>3</td>\n",
              "      <td>65</td>\n",
              "      <td>9</td>\n",
              "      <td>14</td>\n",
              "      <td>4</td>\n",
              "      <td>3</td>\n",
              "      <td>2</td>\n",
              "      <td>2</td>\n",
              "      <td>1.414214</td>\n",
              "      <td>0</td>\n",
              "      <td>2</td>\n",
              "      <td>1</td>\n",
              "      <td>3</td>\n",
              "      <td>2</td>\n",
              "      <td>3</td>\n",
              "      <td>1</td>\n",
              "      <td>3</td>\n",
              "      <td>0</td>\n",
              "      <td>1</td>\n",
              "      <td>2</td>\n",
              "      <td>5</td>\n",
              "      <td>13</td>\n",
              "      <td>2</td>\n",
              "      <td>0</td>\n",
              "      <td>1</td>\n",
              "      <td>2</td>\n",
              "    </tr>\n",
              "  </tbody>\n",
              "</table>\n",
              "<p>1200 rows × 27 columns</p>\n",
              "</div>"
            ],
            "text/plain": [
              "           Age  DistanceFromHome  ...  Attrition  PerformanceRating\n",
              "EmpNumber                         ...                              \n",
              "E1001000    32                10  ...          0                  3\n",
              "E1001006    47                14  ...          0                  3\n",
              "E1001007    40                 5  ...          0                  4\n",
              "E1001009    41                10  ...          0                  3\n",
              "E1001010    60                16  ...          0                  3\n",
              "...        ...               ...  ...        ...                ...\n",
              "E100992     27                 3  ...          0                  4\n",
              "E100993     37                10  ...          0                  3\n",
              "E100994     50                28  ...          0                  3\n",
              "E100995     34                 9  ...          0                  3\n",
              "E100998     24                 3  ...          1                  2\n",
              "\n",
              "[1200 rows x 27 columns]"
            ]
          },
          "metadata": {
            "tags": []
          },
          "execution_count": 47
        }
      ]
    },
    {
      "cell_type": "code",
      "metadata": {
        "colab": {
          "base_uri": "https://localhost:8080/",
          "height": 466
        },
        "id": "kbMgRvo4fXPb",
        "outputId": "19f9a3fc-20e8-4400-871e-b57bddda7e44"
      },
      "source": [
        "# defing Independent variables as X\n",
        "X = final_df.iloc[:,:-1]\n",
        "# Defing Target variable or dependent variable\n",
        "y = final_df.iloc[:,-1]\n",
        "X"
      ],
      "execution_count": null,
      "outputs": [
        {
          "output_type": "execute_result",
          "data": {
            "text/html": [
              "<div>\n",
              "<style scoped>\n",
              "    .dataframe tbody tr th:only-of-type {\n",
              "        vertical-align: middle;\n",
              "    }\n",
              "\n",
              "    .dataframe tbody tr th {\n",
              "        vertical-align: top;\n",
              "    }\n",
              "\n",
              "    .dataframe thead th {\n",
              "        text-align: right;\n",
              "    }\n",
              "</style>\n",
              "<table border=\"1\" class=\"dataframe\">\n",
              "  <thead>\n",
              "    <tr style=\"text-align: right;\">\n",
              "      <th></th>\n",
              "      <th>Age</th>\n",
              "      <th>DistanceFromHome</th>\n",
              "      <th>EmpHourlyRate</th>\n",
              "      <th>NumCompaniesWorked</th>\n",
              "      <th>EmpLastSalaryHikePercent</th>\n",
              "      <th>TotalWorkExperienceInYears</th>\n",
              "      <th>TrainingTimesLastYear</th>\n",
              "      <th>ExperienceYearsAtThisCompany</th>\n",
              "      <th>ExperienceYearsInCurrentRole</th>\n",
              "      <th>YearsSinceLastPromotion</th>\n",
              "      <th>YearsWithCurrManager</th>\n",
              "      <th>EmpEducationLevel</th>\n",
              "      <th>EmpEnvironmentSatisfaction</th>\n",
              "      <th>EmpJobInvolvement</th>\n",
              "      <th>EmpJobLevel</th>\n",
              "      <th>EmpJobSatisfaction</th>\n",
              "      <th>EmpRelationshipSatisfaction</th>\n",
              "      <th>EmpWorkLifeBalance</th>\n",
              "      <th>Gender</th>\n",
              "      <th>EducationBackground</th>\n",
              "      <th>MaritalStatus</th>\n",
              "      <th>EmpDepartment</th>\n",
              "      <th>EmpJobRole</th>\n",
              "      <th>BusinessTravelFrequency</th>\n",
              "      <th>OverTime</th>\n",
              "      <th>Attrition</th>\n",
              "    </tr>\n",
              "    <tr>\n",
              "      <th>EmpNumber</th>\n",
              "      <th></th>\n",
              "      <th></th>\n",
              "      <th></th>\n",
              "      <th></th>\n",
              "      <th></th>\n",
              "      <th></th>\n",
              "      <th></th>\n",
              "      <th></th>\n",
              "      <th></th>\n",
              "      <th></th>\n",
              "      <th></th>\n",
              "      <th></th>\n",
              "      <th></th>\n",
              "      <th></th>\n",
              "      <th></th>\n",
              "      <th></th>\n",
              "      <th></th>\n",
              "      <th></th>\n",
              "      <th></th>\n",
              "      <th></th>\n",
              "      <th></th>\n",
              "      <th></th>\n",
              "      <th></th>\n",
              "      <th></th>\n",
              "      <th></th>\n",
              "      <th></th>\n",
              "    </tr>\n",
              "  </thead>\n",
              "  <tbody>\n",
              "    <tr>\n",
              "      <th>E1001000</th>\n",
              "      <td>32</td>\n",
              "      <td>10</td>\n",
              "      <td>55</td>\n",
              "      <td>1</td>\n",
              "      <td>12</td>\n",
              "      <td>10</td>\n",
              "      <td>2</td>\n",
              "      <td>10</td>\n",
              "      <td>7</td>\n",
              "      <td>0.000000</td>\n",
              "      <td>8</td>\n",
              "      <td>3</td>\n",
              "      <td>4</td>\n",
              "      <td>3</td>\n",
              "      <td>2</td>\n",
              "      <td>4</td>\n",
              "      <td>4</td>\n",
              "      <td>2</td>\n",
              "      <td>1</td>\n",
              "      <td>2</td>\n",
              "      <td>2</td>\n",
              "      <td>5</td>\n",
              "      <td>13</td>\n",
              "      <td>2</td>\n",
              "      <td>0</td>\n",
              "      <td>0</td>\n",
              "    </tr>\n",
              "    <tr>\n",
              "      <th>E1001006</th>\n",
              "      <td>47</td>\n",
              "      <td>14</td>\n",
              "      <td>42</td>\n",
              "      <td>2</td>\n",
              "      <td>12</td>\n",
              "      <td>20</td>\n",
              "      <td>2</td>\n",
              "      <td>7</td>\n",
              "      <td>7</td>\n",
              "      <td>1.000000</td>\n",
              "      <td>7</td>\n",
              "      <td>4</td>\n",
              "      <td>4</td>\n",
              "      <td>3</td>\n",
              "      <td>2</td>\n",
              "      <td>1</td>\n",
              "      <td>4</td>\n",
              "      <td>3</td>\n",
              "      <td>1</td>\n",
              "      <td>2</td>\n",
              "      <td>2</td>\n",
              "      <td>5</td>\n",
              "      <td>13</td>\n",
              "      <td>2</td>\n",
              "      <td>0</td>\n",
              "      <td>0</td>\n",
              "    </tr>\n",
              "    <tr>\n",
              "      <th>E1001007</th>\n",
              "      <td>40</td>\n",
              "      <td>5</td>\n",
              "      <td>48</td>\n",
              "      <td>5</td>\n",
              "      <td>21</td>\n",
              "      <td>20</td>\n",
              "      <td>2</td>\n",
              "      <td>18</td>\n",
              "      <td>13</td>\n",
              "      <td>1.000000</td>\n",
              "      <td>12</td>\n",
              "      <td>4</td>\n",
              "      <td>4</td>\n",
              "      <td>2</td>\n",
              "      <td>3</td>\n",
              "      <td>1</td>\n",
              "      <td>3</td>\n",
              "      <td>3</td>\n",
              "      <td>1</td>\n",
              "      <td>1</td>\n",
              "      <td>1</td>\n",
              "      <td>5</td>\n",
              "      <td>13</td>\n",
              "      <td>1</td>\n",
              "      <td>1</td>\n",
              "      <td>0</td>\n",
              "    </tr>\n",
              "    <tr>\n",
              "      <th>E1001009</th>\n",
              "      <td>41</td>\n",
              "      <td>10</td>\n",
              "      <td>73</td>\n",
              "      <td>3</td>\n",
              "      <td>15</td>\n",
              "      <td>23</td>\n",
              "      <td>2</td>\n",
              "      <td>21</td>\n",
              "      <td>6</td>\n",
              "      <td>3.464102</td>\n",
              "      <td>6</td>\n",
              "      <td>4</td>\n",
              "      <td>2</td>\n",
              "      <td>2</td>\n",
              "      <td>5</td>\n",
              "      <td>4</td>\n",
              "      <td>2</td>\n",
              "      <td>2</td>\n",
              "      <td>1</td>\n",
              "      <td>0</td>\n",
              "      <td>0</td>\n",
              "      <td>3</td>\n",
              "      <td>8</td>\n",
              "      <td>2</td>\n",
              "      <td>0</td>\n",
              "      <td>0</td>\n",
              "    </tr>\n",
              "    <tr>\n",
              "      <th>E1001010</th>\n",
              "      <td>60</td>\n",
              "      <td>16</td>\n",
              "      <td>84</td>\n",
              "      <td>8</td>\n",
              "      <td>14</td>\n",
              "      <td>10</td>\n",
              "      <td>1</td>\n",
              "      <td>2</td>\n",
              "      <td>2</td>\n",
              "      <td>1.414214</td>\n",
              "      <td>2</td>\n",
              "      <td>4</td>\n",
              "      <td>1</td>\n",
              "      <td>3</td>\n",
              "      <td>2</td>\n",
              "      <td>1</td>\n",
              "      <td>4</td>\n",
              "      <td>3</td>\n",
              "      <td>1</td>\n",
              "      <td>2</td>\n",
              "      <td>2</td>\n",
              "      <td>5</td>\n",
              "      <td>13</td>\n",
              "      <td>2</td>\n",
              "      <td>0</td>\n",
              "      <td>0</td>\n",
              "    </tr>\n",
              "    <tr>\n",
              "      <th>...</th>\n",
              "      <td>...</td>\n",
              "      <td>...</td>\n",
              "      <td>...</td>\n",
              "      <td>...</td>\n",
              "      <td>...</td>\n",
              "      <td>...</td>\n",
              "      <td>...</td>\n",
              "      <td>...</td>\n",
              "      <td>...</td>\n",
              "      <td>...</td>\n",
              "      <td>...</td>\n",
              "      <td>...</td>\n",
              "      <td>...</td>\n",
              "      <td>...</td>\n",
              "      <td>...</td>\n",
              "      <td>...</td>\n",
              "      <td>...</td>\n",
              "      <td>...</td>\n",
              "      <td>...</td>\n",
              "      <td>...</td>\n",
              "      <td>...</td>\n",
              "      <td>...</td>\n",
              "      <td>...</td>\n",
              "      <td>...</td>\n",
              "      <td>...</td>\n",
              "      <td>...</td>\n",
              "    </tr>\n",
              "    <tr>\n",
              "      <th>E100992</th>\n",
              "      <td>27</td>\n",
              "      <td>3</td>\n",
              "      <td>71</td>\n",
              "      <td>1</td>\n",
              "      <td>20</td>\n",
              "      <td>6</td>\n",
              "      <td>3</td>\n",
              "      <td>6</td>\n",
              "      <td>5</td>\n",
              "      <td>0.000000</td>\n",
              "      <td>4</td>\n",
              "      <td>1</td>\n",
              "      <td>4</td>\n",
              "      <td>4</td>\n",
              "      <td>2</td>\n",
              "      <td>4</td>\n",
              "      <td>2</td>\n",
              "      <td>3</td>\n",
              "      <td>0</td>\n",
              "      <td>3</td>\n",
              "      <td>0</td>\n",
              "      <td>5</td>\n",
              "      <td>13</td>\n",
              "      <td>1</td>\n",
              "      <td>1</td>\n",
              "      <td>0</td>\n",
              "    </tr>\n",
              "    <tr>\n",
              "      <th>E100993</th>\n",
              "      <td>37</td>\n",
              "      <td>10</td>\n",
              "      <td>80</td>\n",
              "      <td>3</td>\n",
              "      <td>17</td>\n",
              "      <td>4</td>\n",
              "      <td>2</td>\n",
              "      <td>1</td>\n",
              "      <td>0</td>\n",
              "      <td>0.000000</td>\n",
              "      <td>0</td>\n",
              "      <td>2</td>\n",
              "      <td>4</td>\n",
              "      <td>4</td>\n",
              "      <td>1</td>\n",
              "      <td>4</td>\n",
              "      <td>1</td>\n",
              "      <td>3</td>\n",
              "      <td>1</td>\n",
              "      <td>1</td>\n",
              "      <td>2</td>\n",
              "      <td>1</td>\n",
              "      <td>15</td>\n",
              "      <td>2</td>\n",
              "      <td>0</td>\n",
              "      <td>0</td>\n",
              "    </tr>\n",
              "    <tr>\n",
              "      <th>E100994</th>\n",
              "      <td>50</td>\n",
              "      <td>28</td>\n",
              "      <td>74</td>\n",
              "      <td>1</td>\n",
              "      <td>11</td>\n",
              "      <td>20</td>\n",
              "      <td>3</td>\n",
              "      <td>20</td>\n",
              "      <td>8</td>\n",
              "      <td>1.732051</td>\n",
              "      <td>8</td>\n",
              "      <td>1</td>\n",
              "      <td>4</td>\n",
              "      <td>4</td>\n",
              "      <td>1</td>\n",
              "      <td>3</td>\n",
              "      <td>3</td>\n",
              "      <td>3</td>\n",
              "      <td>1</td>\n",
              "      <td>3</td>\n",
              "      <td>1</td>\n",
              "      <td>1</td>\n",
              "      <td>15</td>\n",
              "      <td>2</td>\n",
              "      <td>1</td>\n",
              "      <td>0</td>\n",
              "    </tr>\n",
              "    <tr>\n",
              "      <th>E100995</th>\n",
              "      <td>34</td>\n",
              "      <td>9</td>\n",
              "      <td>46</td>\n",
              "      <td>1</td>\n",
              "      <td>14</td>\n",
              "      <td>9</td>\n",
              "      <td>3</td>\n",
              "      <td>8</td>\n",
              "      <td>7</td>\n",
              "      <td>2.645751</td>\n",
              "      <td>7</td>\n",
              "      <td>3</td>\n",
              "      <td>4</td>\n",
              "      <td>2</td>\n",
              "      <td>3</td>\n",
              "      <td>2</td>\n",
              "      <td>2</td>\n",
              "      <td>4</td>\n",
              "      <td>0</td>\n",
              "      <td>3</td>\n",
              "      <td>2</td>\n",
              "      <td>0</td>\n",
              "      <td>1</td>\n",
              "      <td>2</td>\n",
              "      <td>0</td>\n",
              "      <td>0</td>\n",
              "    </tr>\n",
              "    <tr>\n",
              "      <th>E100998</th>\n",
              "      <td>24</td>\n",
              "      <td>3</td>\n",
              "      <td>65</td>\n",
              "      <td>9</td>\n",
              "      <td>14</td>\n",
              "      <td>4</td>\n",
              "      <td>3</td>\n",
              "      <td>2</td>\n",
              "      <td>2</td>\n",
              "      <td>1.414214</td>\n",
              "      <td>0</td>\n",
              "      <td>2</td>\n",
              "      <td>1</td>\n",
              "      <td>3</td>\n",
              "      <td>2</td>\n",
              "      <td>3</td>\n",
              "      <td>1</td>\n",
              "      <td>3</td>\n",
              "      <td>0</td>\n",
              "      <td>1</td>\n",
              "      <td>2</td>\n",
              "      <td>5</td>\n",
              "      <td>13</td>\n",
              "      <td>2</td>\n",
              "      <td>0</td>\n",
              "      <td>1</td>\n",
              "    </tr>\n",
              "  </tbody>\n",
              "</table>\n",
              "<p>1200 rows × 26 columns</p>\n",
              "</div>"
            ],
            "text/plain": [
              "           Age  DistanceFromHome  ...  OverTime  Attrition\n",
              "EmpNumber                         ...                     \n",
              "E1001000    32                10  ...         0          0\n",
              "E1001006    47                14  ...         0          0\n",
              "E1001007    40                 5  ...         1          0\n",
              "E1001009    41                10  ...         0          0\n",
              "E1001010    60                16  ...         0          0\n",
              "...        ...               ...  ...       ...        ...\n",
              "E100992     27                 3  ...         1          0\n",
              "E100993     37                10  ...         0          0\n",
              "E100994     50                28  ...         1          0\n",
              "E100995     34                 9  ...         0          0\n",
              "E100998     24                 3  ...         0          1\n",
              "\n",
              "[1200 rows x 26 columns]"
            ]
          },
          "metadata": {
            "tags": []
          },
          "execution_count": 48
        }
      ]
    },
    {
      "cell_type": "markdown",
      "metadata": {
        "id": "UGZ-D9dPfXPc"
      },
      "source": [
        "## Checking for Imbalance data"
      ]
    },
    {
      "cell_type": "code",
      "metadata": {
        "colab": {
          "base_uri": "https://localhost:8080/"
        },
        "id": "lt08SzecfXPd",
        "outputId": "80b8cd17-fe4c-4668-ac17-119c5679cf9f"
      },
      "source": [
        "y.value_counts(normalize=True)*100"
      ],
      "execution_count": null,
      "outputs": [
        {
          "output_type": "execute_result",
          "data": {
            "text/plain": [
              "3    72.833333\n",
              "2    16.166667\n",
              "4    11.000000\n",
              "Name: PerformanceRating, dtype: float64"
            ]
          },
          "metadata": {
            "tags": []
          },
          "execution_count": 49
        }
      ]
    },
    {
      "cell_type": "markdown",
      "metadata": {
        "id": "L_cngc-ofXPd"
      },
      "source": [
        "Our ML Algorithm learn more about <b> level 3</b> performance rating compare to <b>level 2</b> & <b>level 4</b>. It will lead biasing problem. So we have to balance the data"
      ]
    },
    {
      "cell_type": "markdown",
      "metadata": {
        "id": "pg824r1JfXPe"
      },
      "source": [
        "## Handling Imbalanced data\n",
        "#### Converting Imbalance data into balanced data\n",
        "\n",
        "* Balancing data with SMOTE Technique gives more number of NaN values\n",
        "* so, we use RandomOverSampler Technique to balance the data"
      ]
    },
    {
      "cell_type": "code",
      "metadata": {
        "id": "9XKqpnmMfXPf"
      },
      "source": [
        "# install imblearn for running Randomoversampler technique\n",
        "#pip install imblearn # uncomment this line for installing imblearn package"
      ],
      "execution_count": null,
      "outputs": []
    },
    {
      "cell_type": "code",
      "metadata": {
        "colab": {
          "base_uri": "https://localhost:8080/",
          "height": 436
        },
        "id": "ETVC90x8fXPf",
        "outputId": "d79f8116-4167-49b0-ed33-33db1a41644c"
      },
      "source": [
        "# Imports\n",
        "from imblearn.over_sampling import RandomOverSampler,SMOTENC,SMOTE\n",
        "# Intilizing the model\n",
        "oversampling = RandomOverSampler()\n",
        "X_smote, y_smote = oversampling.fit_sample(X,y)\n",
        "X_smote = pd.DataFrame(X_smote)\n",
        "X_smote.columns = ['Age', 'DistanceFromHome', 'EmpHourlyRate', 'NumCompaniesWorked',\n",
        "       'EmpLastSalaryHikePercent', 'TotalWorkExperienceInYears',\n",
        "       'TrainingTimesLastYear', 'ExperienceYearsAtThisCompany',\n",
        "       'ExperienceYearsInCurrentRole', 'YearsSinceLastPromotion',\n",
        "       'YearsWithCurrManager', 'EmpEducationLevel',\n",
        "       'EmpEnvironmentSatisfaction', 'EmpJobInvolvement', 'EmpJobLevel',\n",
        "       'EmpJobSatisfaction', 'EmpRelationshipSatisfaction',\n",
        "       'EmpWorkLifeBalance', 'Gender', 'EducationBackground', 'MaritalStatus',\n",
        "       'EmpDepartment', 'EmpJobRole', 'BusinessTravelFrequency', 'OverTime',\n",
        "       'Attrition']\n",
        "X_smote"
      ],
      "execution_count": null,
      "outputs": [
        {
          "output_type": "execute_result",
          "data": {
            "text/html": [
              "<div>\n",
              "<style scoped>\n",
              "    .dataframe tbody tr th:only-of-type {\n",
              "        vertical-align: middle;\n",
              "    }\n",
              "\n",
              "    .dataframe tbody tr th {\n",
              "        vertical-align: top;\n",
              "    }\n",
              "\n",
              "    .dataframe thead th {\n",
              "        text-align: right;\n",
              "    }\n",
              "</style>\n",
              "<table border=\"1\" class=\"dataframe\">\n",
              "  <thead>\n",
              "    <tr style=\"text-align: right;\">\n",
              "      <th></th>\n",
              "      <th>Age</th>\n",
              "      <th>DistanceFromHome</th>\n",
              "      <th>EmpHourlyRate</th>\n",
              "      <th>NumCompaniesWorked</th>\n",
              "      <th>EmpLastSalaryHikePercent</th>\n",
              "      <th>TotalWorkExperienceInYears</th>\n",
              "      <th>TrainingTimesLastYear</th>\n",
              "      <th>ExperienceYearsAtThisCompany</th>\n",
              "      <th>ExperienceYearsInCurrentRole</th>\n",
              "      <th>YearsSinceLastPromotion</th>\n",
              "      <th>YearsWithCurrManager</th>\n",
              "      <th>EmpEducationLevel</th>\n",
              "      <th>EmpEnvironmentSatisfaction</th>\n",
              "      <th>EmpJobInvolvement</th>\n",
              "      <th>EmpJobLevel</th>\n",
              "      <th>EmpJobSatisfaction</th>\n",
              "      <th>EmpRelationshipSatisfaction</th>\n",
              "      <th>EmpWorkLifeBalance</th>\n",
              "      <th>Gender</th>\n",
              "      <th>EducationBackground</th>\n",
              "      <th>MaritalStatus</th>\n",
              "      <th>EmpDepartment</th>\n",
              "      <th>EmpJobRole</th>\n",
              "      <th>BusinessTravelFrequency</th>\n",
              "      <th>OverTime</th>\n",
              "      <th>Attrition</th>\n",
              "    </tr>\n",
              "  </thead>\n",
              "  <tbody>\n",
              "    <tr>\n",
              "      <th>0</th>\n",
              "      <td>32.0</td>\n",
              "      <td>10.0</td>\n",
              "      <td>55.0</td>\n",
              "      <td>1.0</td>\n",
              "      <td>12.0</td>\n",
              "      <td>10.0</td>\n",
              "      <td>2.0</td>\n",
              "      <td>10.0</td>\n",
              "      <td>7.0</td>\n",
              "      <td>0.000000</td>\n",
              "      <td>8.0</td>\n",
              "      <td>3.0</td>\n",
              "      <td>4.0</td>\n",
              "      <td>3.0</td>\n",
              "      <td>2.0</td>\n",
              "      <td>4.0</td>\n",
              "      <td>4.0</td>\n",
              "      <td>2.0</td>\n",
              "      <td>1.0</td>\n",
              "      <td>2.0</td>\n",
              "      <td>2.0</td>\n",
              "      <td>5.0</td>\n",
              "      <td>13.0</td>\n",
              "      <td>2.0</td>\n",
              "      <td>0.0</td>\n",
              "      <td>0.0</td>\n",
              "    </tr>\n",
              "    <tr>\n",
              "      <th>1</th>\n",
              "      <td>47.0</td>\n",
              "      <td>14.0</td>\n",
              "      <td>42.0</td>\n",
              "      <td>2.0</td>\n",
              "      <td>12.0</td>\n",
              "      <td>20.0</td>\n",
              "      <td>2.0</td>\n",
              "      <td>7.0</td>\n",
              "      <td>7.0</td>\n",
              "      <td>1.000000</td>\n",
              "      <td>7.0</td>\n",
              "      <td>4.0</td>\n",
              "      <td>4.0</td>\n",
              "      <td>3.0</td>\n",
              "      <td>2.0</td>\n",
              "      <td>1.0</td>\n",
              "      <td>4.0</td>\n",
              "      <td>3.0</td>\n",
              "      <td>1.0</td>\n",
              "      <td>2.0</td>\n",
              "      <td>2.0</td>\n",
              "      <td>5.0</td>\n",
              "      <td>13.0</td>\n",
              "      <td>2.0</td>\n",
              "      <td>0.0</td>\n",
              "      <td>0.0</td>\n",
              "    </tr>\n",
              "    <tr>\n",
              "      <th>2</th>\n",
              "      <td>40.0</td>\n",
              "      <td>5.0</td>\n",
              "      <td>48.0</td>\n",
              "      <td>5.0</td>\n",
              "      <td>21.0</td>\n",
              "      <td>20.0</td>\n",
              "      <td>2.0</td>\n",
              "      <td>18.0</td>\n",
              "      <td>13.0</td>\n",
              "      <td>1.000000</td>\n",
              "      <td>12.0</td>\n",
              "      <td>4.0</td>\n",
              "      <td>4.0</td>\n",
              "      <td>2.0</td>\n",
              "      <td>3.0</td>\n",
              "      <td>1.0</td>\n",
              "      <td>3.0</td>\n",
              "      <td>3.0</td>\n",
              "      <td>1.0</td>\n",
              "      <td>1.0</td>\n",
              "      <td>1.0</td>\n",
              "      <td>5.0</td>\n",
              "      <td>13.0</td>\n",
              "      <td>1.0</td>\n",
              "      <td>1.0</td>\n",
              "      <td>0.0</td>\n",
              "    </tr>\n",
              "    <tr>\n",
              "      <th>3</th>\n",
              "      <td>41.0</td>\n",
              "      <td>10.0</td>\n",
              "      <td>73.0</td>\n",
              "      <td>3.0</td>\n",
              "      <td>15.0</td>\n",
              "      <td>23.0</td>\n",
              "      <td>2.0</td>\n",
              "      <td>21.0</td>\n",
              "      <td>6.0</td>\n",
              "      <td>3.464102</td>\n",
              "      <td>6.0</td>\n",
              "      <td>4.0</td>\n",
              "      <td>2.0</td>\n",
              "      <td>2.0</td>\n",
              "      <td>5.0</td>\n",
              "      <td>4.0</td>\n",
              "      <td>2.0</td>\n",
              "      <td>2.0</td>\n",
              "      <td>1.0</td>\n",
              "      <td>0.0</td>\n",
              "      <td>0.0</td>\n",
              "      <td>3.0</td>\n",
              "      <td>8.0</td>\n",
              "      <td>2.0</td>\n",
              "      <td>0.0</td>\n",
              "      <td>0.0</td>\n",
              "    </tr>\n",
              "    <tr>\n",
              "      <th>4</th>\n",
              "      <td>60.0</td>\n",
              "      <td>16.0</td>\n",
              "      <td>84.0</td>\n",
              "      <td>8.0</td>\n",
              "      <td>14.0</td>\n",
              "      <td>10.0</td>\n",
              "      <td>1.0</td>\n",
              "      <td>2.0</td>\n",
              "      <td>2.0</td>\n",
              "      <td>1.414214</td>\n",
              "      <td>2.0</td>\n",
              "      <td>4.0</td>\n",
              "      <td>1.0</td>\n",
              "      <td>3.0</td>\n",
              "      <td>2.0</td>\n",
              "      <td>1.0</td>\n",
              "      <td>4.0</td>\n",
              "      <td>3.0</td>\n",
              "      <td>1.0</td>\n",
              "      <td>2.0</td>\n",
              "      <td>2.0</td>\n",
              "      <td>5.0</td>\n",
              "      <td>13.0</td>\n",
              "      <td>2.0</td>\n",
              "      <td>0.0</td>\n",
              "      <td>0.0</td>\n",
              "    </tr>\n",
              "    <tr>\n",
              "      <th>...</th>\n",
              "      <td>...</td>\n",
              "      <td>...</td>\n",
              "      <td>...</td>\n",
              "      <td>...</td>\n",
              "      <td>...</td>\n",
              "      <td>...</td>\n",
              "      <td>...</td>\n",
              "      <td>...</td>\n",
              "      <td>...</td>\n",
              "      <td>...</td>\n",
              "      <td>...</td>\n",
              "      <td>...</td>\n",
              "      <td>...</td>\n",
              "      <td>...</td>\n",
              "      <td>...</td>\n",
              "      <td>...</td>\n",
              "      <td>...</td>\n",
              "      <td>...</td>\n",
              "      <td>...</td>\n",
              "      <td>...</td>\n",
              "      <td>...</td>\n",
              "      <td>...</td>\n",
              "      <td>...</td>\n",
              "      <td>...</td>\n",
              "      <td>...</td>\n",
              "      <td>...</td>\n",
              "    </tr>\n",
              "    <tr>\n",
              "      <th>2617</th>\n",
              "      <td>30.0</td>\n",
              "      <td>24.0</td>\n",
              "      <td>67.0</td>\n",
              "      <td>1.0</td>\n",
              "      <td>22.0</td>\n",
              "      <td>1.0</td>\n",
              "      <td>2.0</td>\n",
              "      <td>1.0</td>\n",
              "      <td>0.0</td>\n",
              "      <td>0.000000</td>\n",
              "      <td>0.0</td>\n",
              "      <td>1.0</td>\n",
              "      <td>4.0</td>\n",
              "      <td>3.0</td>\n",
              "      <td>1.0</td>\n",
              "      <td>3.0</td>\n",
              "      <td>2.0</td>\n",
              "      <td>3.0</td>\n",
              "      <td>1.0</td>\n",
              "      <td>1.0</td>\n",
              "      <td>0.0</td>\n",
              "      <td>1.0</td>\n",
              "      <td>15.0</td>\n",
              "      <td>2.0</td>\n",
              "      <td>0.0</td>\n",
              "      <td>0.0</td>\n",
              "    </tr>\n",
              "    <tr>\n",
              "      <th>2618</th>\n",
              "      <td>41.0</td>\n",
              "      <td>9.0</td>\n",
              "      <td>94.0</td>\n",
              "      <td>2.0</td>\n",
              "      <td>21.0</td>\n",
              "      <td>7.0</td>\n",
              "      <td>2.0</td>\n",
              "      <td>5.0</td>\n",
              "      <td>0.0</td>\n",
              "      <td>1.000000</td>\n",
              "      <td>4.0</td>\n",
              "      <td>4.0</td>\n",
              "      <td>3.0</td>\n",
              "      <td>3.0</td>\n",
              "      <td>1.0</td>\n",
              "      <td>1.0</td>\n",
              "      <td>4.0</td>\n",
              "      <td>3.0</td>\n",
              "      <td>1.0</td>\n",
              "      <td>1.0</td>\n",
              "      <td>1.0</td>\n",
              "      <td>1.0</td>\n",
              "      <td>3.0</td>\n",
              "      <td>2.0</td>\n",
              "      <td>0.0</td>\n",
              "      <td>0.0</td>\n",
              "    </tr>\n",
              "    <tr>\n",
              "      <th>2619</th>\n",
              "      <td>27.0</td>\n",
              "      <td>10.0</td>\n",
              "      <td>32.0</td>\n",
              "      <td>1.0</td>\n",
              "      <td>21.0</td>\n",
              "      <td>9.0</td>\n",
              "      <td>4.0</td>\n",
              "      <td>9.0</td>\n",
              "      <td>7.0</td>\n",
              "      <td>1.000000</td>\n",
              "      <td>7.0</td>\n",
              "      <td>2.0</td>\n",
              "      <td>4.0</td>\n",
              "      <td>3.0</td>\n",
              "      <td>3.0</td>\n",
              "      <td>1.0</td>\n",
              "      <td>3.0</td>\n",
              "      <td>2.0</td>\n",
              "      <td>1.0</td>\n",
              "      <td>1.0</td>\n",
              "      <td>0.0</td>\n",
              "      <td>1.0</td>\n",
              "      <td>3.0</td>\n",
              "      <td>1.0</td>\n",
              "      <td>0.0</td>\n",
              "      <td>0.0</td>\n",
              "    </tr>\n",
              "    <tr>\n",
              "      <th>2620</th>\n",
              "      <td>22.0</td>\n",
              "      <td>7.0</td>\n",
              "      <td>75.0</td>\n",
              "      <td>1.0</td>\n",
              "      <td>23.0</td>\n",
              "      <td>1.0</td>\n",
              "      <td>2.0</td>\n",
              "      <td>1.0</td>\n",
              "      <td>0.0</td>\n",
              "      <td>0.000000</td>\n",
              "      <td>0.0</td>\n",
              "      <td>1.0</td>\n",
              "      <td>4.0</td>\n",
              "      <td>3.0</td>\n",
              "      <td>1.0</td>\n",
              "      <td>2.0</td>\n",
              "      <td>1.0</td>\n",
              "      <td>3.0</td>\n",
              "      <td>1.0</td>\n",
              "      <td>1.0</td>\n",
              "      <td>2.0</td>\n",
              "      <td>4.0</td>\n",
              "      <td>12.0</td>\n",
              "      <td>2.0</td>\n",
              "      <td>1.0</td>\n",
              "      <td>1.0</td>\n",
              "    </tr>\n",
              "    <tr>\n",
              "      <th>2621</th>\n",
              "      <td>27.0</td>\n",
              "      <td>2.0</td>\n",
              "      <td>43.0</td>\n",
              "      <td>3.0</td>\n",
              "      <td>20.0</td>\n",
              "      <td>8.0</td>\n",
              "      <td>3.0</td>\n",
              "      <td>6.0</td>\n",
              "      <td>2.0</td>\n",
              "      <td>0.000000</td>\n",
              "      <td>0.0</td>\n",
              "      <td>1.0</td>\n",
              "      <td>4.0</td>\n",
              "      <td>1.0</td>\n",
              "      <td>2.0</td>\n",
              "      <td>4.0</td>\n",
              "      <td>2.0</td>\n",
              "      <td>3.0</td>\n",
              "      <td>1.0</td>\n",
              "      <td>1.0</td>\n",
              "      <td>2.0</td>\n",
              "      <td>5.0</td>\n",
              "      <td>13.0</td>\n",
              "      <td>1.0</td>\n",
              "      <td>0.0</td>\n",
              "      <td>0.0</td>\n",
              "    </tr>\n",
              "  </tbody>\n",
              "</table>\n",
              "<p>2622 rows × 26 columns</p>\n",
              "</div>"
            ],
            "text/plain": [
              "       Age  DistanceFromHome  ...  OverTime  Attrition\n",
              "0     32.0              10.0  ...       0.0        0.0\n",
              "1     47.0              14.0  ...       0.0        0.0\n",
              "2     40.0               5.0  ...       1.0        0.0\n",
              "3     41.0              10.0  ...       0.0        0.0\n",
              "4     60.0              16.0  ...       0.0        0.0\n",
              "...    ...               ...  ...       ...        ...\n",
              "2617  30.0              24.0  ...       0.0        0.0\n",
              "2618  41.0               9.0  ...       0.0        0.0\n",
              "2619  27.0              10.0  ...       0.0        0.0\n",
              "2620  22.0               7.0  ...       1.0        1.0\n",
              "2621  27.0               2.0  ...       0.0        0.0\n",
              "\n",
              "[2622 rows x 26 columns]"
            ]
          },
          "metadata": {
            "tags": []
          },
          "execution_count": 51
        }
      ]
    },
    {
      "cell_type": "code",
      "metadata": {
        "colab": {
          "base_uri": "https://localhost:8080/"
        },
        "id": "_u7XFEPQfXPg",
        "outputId": "e34ebaf3-0117-4760-ec10-60125964baf8"
      },
      "source": [
        "\n",
        "y_smote= pd.DataFrame(y_smote)\n",
        "y_smote.columns =[\"PerfomanceRating\"]\n",
        "y_smote.value_counts()"
      ],
      "execution_count": null,
      "outputs": [
        {
          "output_type": "execute_result",
          "data": {
            "text/plain": [
              "PerfomanceRating\n",
              "4                   874\n",
              "3                   874\n",
              "2                   874\n",
              "dtype: int64"
            ]
          },
          "metadata": {
            "tags": []
          },
          "execution_count": 52
        }
      ]
    },
    {
      "cell_type": "markdown",
      "metadata": {
        "id": "vnZFWIiefXPg"
      },
      "source": [
        "Now, we can say our data is balanced"
      ]
    },
    {
      "cell_type": "code",
      "metadata": {
        "colab": {
          "base_uri": "https://localhost:8080/"
        },
        "id": "ltoimVICfXPh",
        "outputId": "8b764a1f-1403-4ef9-8b8c-d36973b706bf"
      },
      "source": [
        "# Again checking for Normal distribution in balanced data\n",
        "from scipy.stats import skew\n",
        "def skewedness(data):\n",
        "    skewed=[]\n",
        "    for i in data:\n",
        "        sk=data[i].skew()\n",
        "        if(sk>1.96 or sk<=-1.96):\n",
        "            skewed.append(i)\n",
        "    return skewed\n",
        "\n",
        "skewedness(X_smote)\n"
      ],
      "execution_count": null,
      "outputs": [
        {
          "output_type": "execute_result",
          "data": {
            "text/plain": [
              "[]"
            ]
          },
          "metadata": {
            "tags": []
          },
          "execution_count": 53
        }
      ]
    },
    {
      "cell_type": "markdown",
      "metadata": {
        "id": "8mtKd5aRfXPi"
      },
      "source": [
        "# Feature Selection"
      ]
    },
    {
      "cell_type": "code",
      "metadata": {
        "colab": {
          "base_uri": "https://localhost:8080/"
        },
        "id": "Yz--YlADfXPi",
        "outputId": "b93db2fd-914a-4c7a-e835-2e8b8dcb6195"
      },
      "source": [
        "from sklearn.feature_selection import SelectKBest\n",
        "from sklearn.feature_selection import chi2\n",
        "\n",
        "bestfeatures = SelectKBest(score_func=chi2,k=15)\n",
        "fit = bestfeatures.fit(X_smote,y_smote)\n",
        "\n",
        "dfscores = pd.DataFrame(fit.scores_)\n",
        "dfcolumns = pd.DataFrame(X_smote.columns)\n",
        "\n",
        "featurescores = pd.concat([dfcolumns,dfscores],axis=1)\n",
        "featurescores.columns = ['feature_names','Scores']\n",
        "\n",
        "print(featurescores.nlargest(8,'Scores'))"
      ],
      "execution_count": null,
      "outputs": [
        {
          "output_type": "stream",
          "text": [
            "                   feature_names       Scores\n",
            "4       EmpLastSalaryHikePercent  1244.903600\n",
            "7   ExperienceYearsAtThisCompany   536.105120\n",
            "12    EmpEnvironmentSatisfaction   489.147842\n",
            "8   ExperienceYearsInCurrentRole   455.218007\n",
            "9        YearsSinceLastPromotion   400.485728\n",
            "10          YearsWithCurrManager   388.361669\n",
            "1               DistanceFromHome   179.684759\n",
            "21                 EmpDepartment   161.352621\n"
          ],
          "name": "stdout"
        }
      ]
    },
    {
      "cell_type": "markdown",
      "metadata": {
        "id": "kF-5R4YjfXPj"
      },
      "source": [
        "These are the <b> Top 10 </b> features which impact on the target variable to predict the rating"
      ]
    },
    {
      "cell_type": "code",
      "metadata": {
        "colab": {
          "base_uri": "https://localhost:8080/"
        },
        "id": "eZI-BgYNfXPj",
        "outputId": "c29727fc-f0a5-49d4-f3d4-8162228a2230"
      },
      "source": [
        "X_smote.info()"
      ],
      "execution_count": null,
      "outputs": [
        {
          "output_type": "stream",
          "text": [
            "<class 'pandas.core.frame.DataFrame'>\n",
            "RangeIndex: 2622 entries, 0 to 2621\n",
            "Data columns (total 26 columns):\n",
            " #   Column                        Non-Null Count  Dtype  \n",
            "---  ------                        --------------  -----  \n",
            " 0   Age                           2622 non-null   float64\n",
            " 1   DistanceFromHome              2622 non-null   float64\n",
            " 2   EmpHourlyRate                 2622 non-null   float64\n",
            " 3   NumCompaniesWorked            2622 non-null   float64\n",
            " 4   EmpLastSalaryHikePercent      2622 non-null   float64\n",
            " 5   TotalWorkExperienceInYears    2622 non-null   float64\n",
            " 6   TrainingTimesLastYear         2622 non-null   float64\n",
            " 7   ExperienceYearsAtThisCompany  2622 non-null   float64\n",
            " 8   ExperienceYearsInCurrentRole  2622 non-null   float64\n",
            " 9   YearsSinceLastPromotion       2622 non-null   float64\n",
            " 10  YearsWithCurrManager          2622 non-null   float64\n",
            " 11  EmpEducationLevel             2622 non-null   float64\n",
            " 12  EmpEnvironmentSatisfaction    2622 non-null   float64\n",
            " 13  EmpJobInvolvement             2622 non-null   float64\n",
            " 14  EmpJobLevel                   2622 non-null   float64\n",
            " 15  EmpJobSatisfaction            2622 non-null   float64\n",
            " 16  EmpRelationshipSatisfaction   2622 non-null   float64\n",
            " 17  EmpWorkLifeBalance            2622 non-null   float64\n",
            " 18  Gender                        2622 non-null   float64\n",
            " 19  EducationBackground           2622 non-null   float64\n",
            " 20  MaritalStatus                 2622 non-null   float64\n",
            " 21  EmpDepartment                 2622 non-null   float64\n",
            " 22  EmpJobRole                    2622 non-null   float64\n",
            " 23  BusinessTravelFrequency       2622 non-null   float64\n",
            " 24  OverTime                      2622 non-null   float64\n",
            " 25  Attrition                     2622 non-null   float64\n",
            "dtypes: float64(26)\n",
            "memory usage: 532.7 KB\n"
          ],
          "name": "stdout"
        }
      ]
    },
    {
      "cell_type": "code",
      "metadata": {
        "colab": {
          "base_uri": "https://localhost:8080/"
        },
        "id": "kdJTy5WKfXPk",
        "scrolled": true,
        "outputId": "74ad0eed-a8c9-4bcd-80b7-7128d8f620c3"
      },
      "source": [
        "X_smote.columns"
      ],
      "execution_count": null,
      "outputs": [
        {
          "output_type": "execute_result",
          "data": {
            "text/plain": [
              "Index(['Age', 'DistanceFromHome', 'EmpHourlyRate', 'NumCompaniesWorked',\n",
              "       'EmpLastSalaryHikePercent', 'TotalWorkExperienceInYears',\n",
              "       'TrainingTimesLastYear', 'ExperienceYearsAtThisCompany',\n",
              "       'ExperienceYearsInCurrentRole', 'YearsSinceLastPromotion',\n",
              "       'YearsWithCurrManager', 'EmpEducationLevel',\n",
              "       'EmpEnvironmentSatisfaction', 'EmpJobInvolvement', 'EmpJobLevel',\n",
              "       'EmpJobSatisfaction', 'EmpRelationshipSatisfaction',\n",
              "       'EmpWorkLifeBalance', 'Gender', 'EducationBackground', 'MaritalStatus',\n",
              "       'EmpDepartment', 'EmpJobRole', 'BusinessTravelFrequency', 'OverTime',\n",
              "       'Attrition'],\n",
              "      dtype='object')"
            ]
          },
          "metadata": {
            "tags": []
          },
          "execution_count": 56
        }
      ]
    },
    {
      "cell_type": "markdown",
      "metadata": {
        "id": "S4G1g2uVfXPl"
      },
      "source": [
        "### Feature selection Technique\n",
        "#### Model training with selected features\n",
        "* By passing<b> top 3  features</b> columns in x and performancerating (target column) as y \n",
        "* For Test data, Model is getting <b> Accuracy score: 90% </b>\n",
        "* For Train data, Model is getting <b> Accuracy score: 93% </b>\n",
        "\n",
        "#### Model fitting\n",
        "* By passing <b>top 10  features </b>columns in x and performancerating (target column) as y \n",
        "* For Test data, Model is getting <b> Accuracy score: 96% </b>\n",
        "* For Train data, Model is getting <b> Accuracy score: 100%</b>"
      ]
    },
    {
      "cell_type": "markdown",
      "metadata": {
        "id": "f-obfTtJfXPl"
      },
      "source": [
        "## Defining Features & Target for ML algorithm"
      ]
    },
    {
      "cell_type": "code",
      "metadata": {
        "id": "FvpPGEXSfXPm"
      },
      "source": [
        "X = X_smote.loc[:,['EmpLastSalaryHikePercent','EmpEnvironmentSatisfaction','ExperienceYearsInCurrentRole','ExperienceYearsAtThisCompany','EmpJobRole','YearsSinceLastPromotion','YearsWithCurrManager','EmpDepartment','DistanceFromHome','TotalWorkExperienceInYears' ]] # features\n",
        "y = y_smote # target"
      ],
      "execution_count": null,
      "outputs": []
    },
    {
      "cell_type": "markdown",
      "metadata": {
        "id": "LRG4zZDzfXPm"
      },
      "source": [
        "## Spliting the dataset for training and test model"
      ]
    },
    {
      "cell_type": "code",
      "metadata": {
        "colab": {
          "base_uri": "https://localhost:8080/"
        },
        "id": "JKtWywGHfXPn",
        "outputId": "dbb73fdd-5c70-4713-ee45-f2201d6afd01"
      },
      "source": [
        "# spliting Train data and Test data\n",
        "from sklearn.model_selection import train_test_split\n",
        "X_train,X_test,y_train,y_test = train_test_split(X,y,random_state=42,test_size=0.30)\n",
        "# Checking shape for train data and test data\n",
        "X_train.shape ,X_test.shape ,y_train.shape ,y_test.shape"
      ],
      "execution_count": null,
      "outputs": [
        {
          "output_type": "execute_result",
          "data": {
            "text/plain": [
              "((1835, 10), (787, 10), (1835, 1), (787, 1))"
            ]
          },
          "metadata": {
            "tags": []
          },
          "execution_count": 58
        }
      ]
    },
    {
      "cell_type": "markdown",
      "metadata": {
        "id": "zMQj8HAnfXPo"
      },
      "source": [
        "## ML Algorithm"
      ]
    },
    {
      "cell_type": "code",
      "metadata": {
        "colab": {
          "base_uri": "https://localhost:8080/"
        },
        "id": "FvmfbsenfXPo",
        "outputId": "7afa5c10-058b-4bf7-de91-e3ffa0db7ee9"
      },
      "source": [
        "from sklearn.ensemble import RandomForestClassifier\n",
        "# Initilize model\n",
        "forest = RandomForestClassifier() # random forest with default parameters\n",
        "forest.fit(X_train,y_train)\n",
        "y_predict = forest.predict(X_test)\n",
        "y_train.value_counts()"
      ],
      "execution_count": null,
      "outputs": [
        {
          "output_type": "execute_result",
          "data": {
            "text/plain": [
              "PerfomanceRating\n",
              "3                   624\n",
              "4                   615\n",
              "2                   596\n",
              "dtype: int64"
            ]
          },
          "metadata": {
            "tags": []
          },
          "execution_count": 59
        }
      ]
    },
    {
      "cell_type": "code",
      "metadata": {
        "id": "lVkSCqdp1ul0"
      },
      "source": [
        "#Fitting Decision Tree classifier to the training set  \n",
        "from sklearn.ensemble import RandomForestClassifier  \n",
        "classifier= RandomForestClassifier()  \n",
        "classifier.fit(X_train, y_train)\n",
        "y_pred= classifier.predict(X_test)  "
      ],
      "execution_count": null,
      "outputs": []
    },
    {
      "cell_type": "code",
      "metadata": {
        "id": "9FWWrGiu29KD"
      },
      "source": [
        "#Creating the Confusion matrix  \n",
        "from sklearn.metrics import confusion_matrix  \n",
        "cm= confusion_matrix(y_test, y_predict)  "
      ],
      "execution_count": null,
      "outputs": []
    },
    {
      "cell_type": "markdown",
      "metadata": {
        "id": "zp7xo48_fXPp"
      },
      "source": [
        "## Evalutation of Machine Learning Model"
      ]
    },
    {
      "cell_type": "code",
      "metadata": {
        "colab": {
          "base_uri": "https://localhost:8080/"
        },
        "id": "uF3iXhYhfXPq",
        "outputId": "9ce1c2a9-de63-47e6-9a2f-f6ad8eeb9ff6"
      },
      "source": [
        "from sklearn.metrics import accuracy_score, confusion_matrix, classification_report\n",
        "print(f\"\\033[1mAccuracy_score : {round(accuracy_score(y_test,y_predict)*100,2)} %\\n\")\n",
        "print(\"Classification Report\\n\")\n",
        "print(classification_report(y_test,y_predict))"
      ],
      "execution_count": null,
      "outputs": [
        {
          "output_type": "stream",
          "text": [
            "\u001b[1mAccuracy_score : 98.6 %\n",
            "\n",
            "Classification Report\n",
            "\n",
            "              precision    recall  f1-score   support\n",
            "\n",
            "           2       0.97      1.00      0.98       278\n",
            "           3       1.00      0.96      0.98       250\n",
            "           4       0.99      1.00      1.00       259\n",
            "\n",
            "    accuracy                           0.99       787\n",
            "   macro avg       0.99      0.99      0.99       787\n",
            "weighted avg       0.99      0.99      0.99       787\n",
            "\n"
          ],
          "name": "stdout"
        }
      ]
    },
    {
      "cell_type": "code",
      "metadata": {
        "colab": {
          "base_uri": "https://localhost:8080/",
          "height": 620
        },
        "id": "ulhwUylGfXPq",
        "outputId": "454dc491-13d6-41d2-8387-e17b0f329cc8"
      },
      "source": [
        "from sklearn.metrics import plot_confusion_matrix\n",
        "import matplotlib\n",
        "# Default theame for plotings\n",
        "matplotlib.rcdefaults()\n",
        "f,(ax1,ax2) = plt.subplots(1,2,figsize=(15,6))\n",
        "# Plot non-normalized confusion matrix\n",
        "cm1 = plot_confusion_matrix(forest, X_test, y_test, cmap=plt.cm.Blues,normalize=None,ax=ax1)\n",
        "cm1.ax_.set_title(\"Confusion matrix, without normalization\\n\",fontsize=15)\n",
        "\n",
        "cm2 = plot_confusion_matrix(forest, X_test, y_test, cmap=plt.cm.Blues,normalize=\"true\",ax=ax2)\n",
        "cm2.ax_.set_title(\"Normalized confusion matrix\\n\",fontsize=15)\n",
        "plt.tight_layout(pad=2)\n",
        "\n",
        "plt.show()"
      ],
      "execution_count": null,
      "outputs": [
        {
          "output_type": "display_data",
          "data": {
            "image/png": "[encoded data removed]",
            "text/plain": [
              "<Figure size 1500x600 with 4 Axes>"
            ]
          },
          "metadata": {
            "tags": []
          }
        }
      ]
    },
    {
      "cell_type": "markdown",
      "metadata": {
        "id": "Xx-lzQr-fXPr"
      },
      "source": [
        "### checking Train accuracy to avoid overfitting problem"
      ]
    },
    {
      "cell_type": "code",
      "metadata": {
        "colab": {
          "base_uri": "https://localhost:8080/"
        },
        "id": "fv5XQlK3fXPr",
        "outputId": "06f192da-ab08-4d99-e20e-304f4f379561"
      },
      "source": [
        "forest = RandomForestClassifier()\n",
        "forest.fit(X_train,y_train)\n",
        "y_predict1 = forest.predict(X_train)\n",
        "\n",
        "print(f\"\\033[1m Train - Accuracy score : {round(accuracy_score(y_train,y_predict1)*100,2)} %\\n\")\n",
        "print(classification_report(y_train,y_predict1))"
      ],
      "execution_count": null,
      "outputs": [
        {
          "output_type": "stream",
          "text": [
            "\u001b[1m Train - Accuracy score : 100.0 %\n",
            "\n",
            "              precision    recall  f1-score   support\n",
            "\n",
            "           2       1.00      1.00      1.00       596\n",
            "           3       1.00      1.00      1.00       624\n",
            "           4       1.00      1.00      1.00       615\n",
            "\n",
            "    accuracy                           1.00      1835\n",
            "   macro avg       1.00      1.00      1.00      1835\n",
            "weighted avg       1.00      1.00      1.00      1835\n",
            "\n"
          ],
          "name": "stdout"
        }
      ]
    },
    {
      "cell_type": "markdown",
      "metadata": {
        "id": "WUoUqkMdfXPt"
      },
      "source": [
        "# Feature Scaling"
      ]
    },
    {
      "cell_type": "code",
      "metadata": {
        "id": "mFbezvJEGMTn"
      },
      "source": [
        "from sklearn.preprocessing import StandardScaler,MinMaxScaler\n",
        "scaler=StandardScaler()\n",
        "X2=scaler.fit_transform(X)"
      ],
      "execution_count": null,
      "outputs": []
    },
    {
      "cell_type": "code",
      "metadata": {
        "id": "qoqYpYO_fXPu"
      },
      "source": [
        "from sklearn.model_selection import train_test_split\n",
        "X_train,X_test,y_train,y_test = train_test_split(X2,y,random_state=42,test_size=0.30)"
      ],
      "execution_count": null,
      "outputs": []
    },
    {
      "cell_type": "code",
      "metadata": {
        "id": "x8eBy9_ffXPv"
      },
      "source": [
        "from sklearn.ensemble import RandomForestClassifier\n",
        "\n",
        "forest = RandomForestClassifier()\n",
        "forest.fit(X_train,y_train)\n",
        "y_predict = forest.predict(X_test)\n"
      ],
      "execution_count": null,
      "outputs": []
    },
    {
      "cell_type": "code",
      "metadata": {
        "colab": {
          "base_uri": "https://localhost:8080/"
        },
        "id": "Vdwq3FUsCXDV",
        "outputId": "a793cd1f-8a34-4182-f1a1-592d10bfa12d"
      },
      "source": [
        "y_train.value_counts()"
      ],
      "execution_count": null,
      "outputs": [
        {
          "output_type": "execute_result",
          "data": {
            "text/plain": [
              "PerfomanceRating\n",
              "3                   624\n",
              "4                   615\n",
              "2                   596\n",
              "dtype: int64"
            ]
          },
          "metadata": {
            "tags": []
          },
          "execution_count": 68
        }
      ]
    },
    {
      "cell_type": "code",
      "metadata": {
        "colab": {
          "base_uri": "https://localhost:8080/"
        },
        "id": "_IkgH19I9wVP",
        "outputId": "58fb9b10-88ce-4487-edf9-b3d6e5e6a000"
      },
      "source": [
        "#Get the accuracy on the training data\n",
        "forest.score(X_train, y_train)"
      ],
      "execution_count": null,
      "outputs": [
        {
          "output_type": "execute_result",
          "data": {
            "text/plain": [
              "1.0"
            ]
          },
          "metadata": {
            "tags": []
          },
          "execution_count": 69
        }
      ]
    },
    {
      "cell_type": "code",
      "metadata": {
        "colab": {
          "base_uri": "https://localhost:8080/"
        },
        "id": "jHQ9jlaWfXPv",
        "scrolled": true,
        "outputId": "c4fbbb0e-20cd-43be-99d8-2211a0ebec70"
      },
      "source": [
        "from sklearn.metrics import accuracy_score, confusion_matrix, classification_report,log_loss,auc\n",
        "print(f\"\\033[1mAccuracy score : {round(accuracy_score(y_test,y_predict)*100,2)} %\\n\")\n",
        "print(\"Classification Report\\n\")\n",
        "print(classification_report(y_test,y_predict))\n"
      ],
      "execution_count": null,
      "outputs": [
        {
          "output_type": "stream",
          "text": [
            "\u001b[1mAccuracy score : 98.35 %\n",
            "\n",
            "Classification Report\n",
            "\n",
            "              precision    recall  f1-score   support\n",
            "\n",
            "           2       0.97      1.00      0.98       278\n",
            "           3       1.00      0.95      0.97       250\n",
            "           4       0.99      1.00      0.99       259\n",
            "\n",
            "    accuracy                           0.98       787\n",
            "   macro avg       0.98      0.98      0.98       787\n",
            "weighted avg       0.98      0.98      0.98       787\n",
            "\n"
          ],
          "name": "stdout"
        }
      ]
    },
    {
      "cell_type": "code",
      "metadata": {
        "id": "3L6ihNgq6oXS"
      },
      "source": [
        ""
      ],
      "execution_count": null,
      "outputs": []
    },
    {
      "cell_type": "markdown",
      "metadata": {
        "id": "2vaN0UxVfXPw"
      },
      "source": [
        "After applying Feature scaling, we are getting same <b> Accuracy Score: 98%"
      ]
    },
    {
      "cell_type": "code",
      "metadata": {
        "id": "dpXhhbtPaOc-"
      },
      "source": [
        "#pip install xgboost"
      ],
      "execution_count": null,
      "outputs": []
    },
    {
      "cell_type": "code",
      "metadata": {
        "id": "jlg8nzD3CcTb"
      },
      "source": [
        "from xgboost import XGBClassifier\n",
        "\n",
        "xgbc = XGBClassifier()\n",
        "xgbc.fit(X_train,y_train)\n",
        "y_predict = xgbc.predict(X_test)\n",
        "\n"
      ],
      "execution_count": null,
      "outputs": []
    },
    {
      "cell_type": "code",
      "metadata": {
        "colab": {
          "base_uri": "https://localhost:8080/"
        },
        "id": "jJ-wVhdE_FV0",
        "outputId": "ddfc7ea4-af25-49d5-80d5-f34944ab9f74"
      },
      "source": [
        "xgbc.fit(X_train, y_train)"
      ],
      "execution_count": null,
      "outputs": [
        {
          "output_type": "execute_result",
          "data": {
            "text/plain": [
              "XGBClassifier(base_score=0.5, booster='gbtree', colsample_bylevel=1,\n",
              "              colsample_bynode=1, colsample_bytree=1, gamma=0,\n",
              "              learning_rate=0.1, max_delta_step=0, max_depth=3,\n",
              "              min_child_weight=1, missing=None, n_estimators=100, n_jobs=1,\n",
              "              nthread=None, objective='multi:softprob', random_state=0,\n",
              "              reg_alpha=0, reg_lambda=1, scale_pos_weight=1, seed=None,\n",
              "              silent=None, subsample=1, verbosity=1)"
            ]
          },
          "metadata": {
            "tags": []
          },
          "execution_count": 78
        }
      ]
    },
    {
      "cell_type": "code",
      "metadata": {
        "colab": {
          "base_uri": "https://localhost:8080/"
        },
        "id": "KnuYvHBU7f7b",
        "outputId": "f6e2a91a-580e-4e4f-bf68-6406858f59e8"
      },
      "source": [
        "\n",
        "print(xgbc)\n",
        "from sklearn.metrics import accuracy_score, confusion_matrix, classification_report,log_loss,auc\n",
        "print(f\"\\033[1mAccuracy score : {round(accuracy_score(y_test,y_predict)*100,2)} %\\n\")\n",
        "print(\"Classification Report\\n\")\n",
        "print(classification_report(y_test,y_predict))\n"
      ],
      "execution_count": null,
      "outputs": [
        {
          "output_type": "stream",
          "text": [
            "XGBClassifier(base_score=0.5, booster='gbtree', colsample_bylevel=1,\n",
            "              colsample_bynode=1, colsample_bytree=1, gamma=0,\n",
            "              learning_rate=0.1, max_delta_step=0, max_depth=3,\n",
            "              min_child_weight=1, missing=None, n_estimators=100, n_jobs=1,\n",
            "              nthread=None, objective='multi:softprob', random_state=0,\n",
            "              reg_alpha=0, reg_lambda=1, scale_pos_weight=1, seed=None,\n",
            "              silent=None, subsample=1, verbosity=1)\n",
            "\u001b[1mAccuracy score : 94.92 %\n",
            "\n",
            "Classification Report\n",
            "\n",
            "              precision    recall  f1-score   support\n",
            "\n",
            "           2       0.95      0.98      0.96       278\n",
            "           3       0.91      0.94      0.92       250\n",
            "           4       0.98      0.93      0.96       259\n",
            "\n",
            "    accuracy                           0.95       787\n",
            "   macro avg       0.95      0.95      0.95       787\n",
            "weighted avg       0.95      0.95      0.95       787\n",
            "\n"
          ],
          "name": "stdout"
        }
      ]
    },
    {
      "cell_type": "code",
      "metadata": {
        "colab": {
          "base_uri": "https://localhost:8080/"
        },
        "id": "dAuq-tL37jwU",
        "outputId": "050d9147-6456-4ace-e57e-98b876e195bf"
      },
      "source": [
        "xgbc.fit(X_train, y_train)\n",
        "y__pred = xgbc.predict(X_test)\n",
        "cm = confusion_matrix(y_test,y_pred)\n",
        "print(cm)\n"
      ],
      "execution_count": null,
      "outputs": [
        {
          "output_type": "stream",
          "text": [
            "[[277   1   0]\n",
            " [  8 239   3]\n",
            " [  0   0 259]]\n"
          ],
          "name": "stdout"
        }
      ]
    },
    {
      "cell_type": "markdown",
      "metadata": {
        "id": "d8ApxgD9DkV6"
      },
      "source": [
        "## xgboost accuracy score 95% "
      ]
    },
    {
      "cell_type": "code",
      "metadata": {
        "id": "7z2YUTJU8X0P",
        "colab": {
          "base_uri": "https://localhost:8080/"
        },
        "outputId": "89fbbb0a-f08e-4a9e-ba46-5bc90bbf99f5"
      },
      "source": [
        "#Show the confusion matrix and accuracy for  the model on the test data\n",
        "#Classification accuracy is the ratio of correct predictions to total predictions made.\n",
        "from sklearn.metrics import confusion_matrix\n",
        "\n",
        "cm = confusion_matrix(y_test, xgbc.predict(X_test))\n",
        "  \n",
        "TN = cm[0][0]\n",
        "TP = cm[1][1]\n",
        "FN = cm[1][0]\n",
        "FP = cm[0][1]\n",
        "  \n",
        "print(cm)\n",
        "print('Model Testing Accuracy = \"{}!\"'.format(  (TP + TN) / (TP + TN + FN + FP)))\n",
        "print()# Print a new line"
      ],
      "execution_count": null,
      "outputs": [
        {
          "output_type": "stream",
          "text": [
            "[[272   6   0]\n",
            " [ 12 234   4]\n",
            " [  2  16 241]]\n",
            "Model Testing Accuracy = \"0.9656488549618321!\"\n",
            "\n"
          ],
          "name": "stdout"
        }
      ]
    }
  ]
}